{
 "cells": [
  {
   "cell_type": "markdown",
   "metadata": {},
   "source": [
    "# MINI PROJECT: GDP analysis - BRICS countries"
   ]
  },
  {
   "cell_type": "code",
   "execution_count": 1,
   "metadata": {},
   "outputs": [],
   "source": [
    "import numpy as np\n",
    "import pandas as pd\n",
    "import matplotlib.pyplot as plt"
   ]
  },
  {
   "cell_type": "code",
   "execution_count": 2,
   "metadata": {},
   "outputs": [],
   "source": [
    "import os"
   ]
  },
  {
   "cell_type": "code",
   "execution_count": 3,
   "metadata": {},
   "outputs": [
    {
     "name": "stdout",
     "output_type": "stream",
     "text": [
      "(5656458, 6)\n"
     ]
    }
   ],
   "source": [
    "# Read file\n",
    "#dataset = pd.read_csv('Indicators/Indicators.csv',sep=',')\n",
    "dataset = pd.read_csv('./data/Indicators.csv',sep=',')\n",
    "print(dataset.shape)"
   ]
  },
  {
   "cell_type": "code",
   "execution_count": 4,
   "metadata": {},
   "outputs": [
    {
     "data": {
      "text/html": [
       "<div>\n",
       "<style scoped>\n",
       "    .dataframe tbody tr th:only-of-type {\n",
       "        vertical-align: middle;\n",
       "    }\n",
       "\n",
       "    .dataframe tbody tr th {\n",
       "        vertical-align: top;\n",
       "    }\n",
       "\n",
       "    .dataframe thead th {\n",
       "        text-align: right;\n",
       "    }\n",
       "</style>\n",
       "<table border=\"1\" class=\"dataframe\">\n",
       "  <thead>\n",
       "    <tr style=\"text-align: right;\">\n",
       "      <th></th>\n",
       "      <th>CountryName</th>\n",
       "      <th>CountryCode</th>\n",
       "      <th>IndicatorName</th>\n",
       "      <th>IndicatorCode</th>\n",
       "      <th>Year</th>\n",
       "      <th>Value</th>\n",
       "    </tr>\n",
       "  </thead>\n",
       "  <tbody>\n",
       "    <tr>\n",
       "      <th>0</th>\n",
       "      <td>Arab World</td>\n",
       "      <td>ARB</td>\n",
       "      <td>Adolescent fertility rate (births per 1,000 wo...</td>\n",
       "      <td>SP.ADO.TFRT</td>\n",
       "      <td>1960</td>\n",
       "      <td>1.335609e+02</td>\n",
       "    </tr>\n",
       "    <tr>\n",
       "      <th>1</th>\n",
       "      <td>Arab World</td>\n",
       "      <td>ARB</td>\n",
       "      <td>Age dependency ratio (% of working-age populat...</td>\n",
       "      <td>SP.POP.DPND</td>\n",
       "      <td>1960</td>\n",
       "      <td>8.779760e+01</td>\n",
       "    </tr>\n",
       "    <tr>\n",
       "      <th>2</th>\n",
       "      <td>Arab World</td>\n",
       "      <td>ARB</td>\n",
       "      <td>Age dependency ratio, old (% of working-age po...</td>\n",
       "      <td>SP.POP.DPND.OL</td>\n",
       "      <td>1960</td>\n",
       "      <td>6.634579e+00</td>\n",
       "    </tr>\n",
       "    <tr>\n",
       "      <th>3</th>\n",
       "      <td>Arab World</td>\n",
       "      <td>ARB</td>\n",
       "      <td>Age dependency ratio, young (% of working-age ...</td>\n",
       "      <td>SP.POP.DPND.YG</td>\n",
       "      <td>1960</td>\n",
       "      <td>8.102333e+01</td>\n",
       "    </tr>\n",
       "    <tr>\n",
       "      <th>4</th>\n",
       "      <td>Arab World</td>\n",
       "      <td>ARB</td>\n",
       "      <td>Arms exports (SIPRI trend indicator values)</td>\n",
       "      <td>MS.MIL.XPRT.KD</td>\n",
       "      <td>1960</td>\n",
       "      <td>3.000000e+06</td>\n",
       "    </tr>\n",
       "  </tbody>\n",
       "</table>\n",
       "</div>"
      ],
      "text/plain": [
       "  CountryName CountryCode                                      IndicatorName  \\\n",
       "0  Arab World         ARB  Adolescent fertility rate (births per 1,000 wo...   \n",
       "1  Arab World         ARB  Age dependency ratio (% of working-age populat...   \n",
       "2  Arab World         ARB  Age dependency ratio, old (% of working-age po...   \n",
       "3  Arab World         ARB  Age dependency ratio, young (% of working-age ...   \n",
       "4  Arab World         ARB        Arms exports (SIPRI trend indicator values)   \n",
       "\n",
       "    IndicatorCode  Year         Value  \n",
       "0     SP.ADO.TFRT  1960  1.335609e+02  \n",
       "1     SP.POP.DPND  1960  8.779760e+01  \n",
       "2  SP.POP.DPND.OL  1960  6.634579e+00  \n",
       "3  SP.POP.DPND.YG  1960  8.102333e+01  \n",
       "4  MS.MIL.XPRT.KD  1960  3.000000e+06  "
      ]
     },
     "execution_count": 4,
     "metadata": {},
     "output_type": "execute_result"
    }
   ],
   "source": [
    "dataset.head(5)"
   ]
  },
  {
   "cell_type": "code",
   "execution_count": 5,
   "metadata": {},
   "outputs": [
    {
     "data": {
      "text/plain": [
       "247"
      ]
     },
     "execution_count": 5,
     "metadata": {},
     "output_type": "execute_result"
    }
   ],
   "source": [
    "len(dataset['CountryCode'].unique().tolist())"
   ]
  },
  {
   "cell_type": "code",
   "execution_count": 6,
   "metadata": {},
   "outputs": [
    {
     "data": {
      "text/plain": [
       "1344"
      ]
     },
     "execution_count": 6,
     "metadata": {},
     "output_type": "execute_result"
    }
   ],
   "source": [
    "len(dataset['IndicatorName'].unique().tolist())"
   ]
  },
  {
   "cell_type": "code",
   "execution_count": 7,
   "metadata": {},
   "outputs": [
    {
     "data": {
      "text/plain": [
       "(1960, 2015)"
      ]
     },
     "execution_count": 7,
     "metadata": {},
     "output_type": "execute_result"
    }
   ],
   "source": [
    "dataset['Year'].min() , dataset['Year'].max()"
   ]
  },
  {
   "cell_type": "code",
   "execution_count": 8,
   "metadata": {},
   "outputs": [
    {
     "data": {
      "text/plain": [
       "False"
      ]
     },
     "execution_count": 8,
     "metadata": {},
     "output_type": "execute_result"
    }
   ],
   "source": [
    "dataset['Value'].isnull().any()"
   ]
  },
  {
   "cell_type": "code",
   "execution_count": 9,
   "metadata": {},
   "outputs": [
    {
     "data": {
      "text/plain": [
       "CountryName      False\n",
       "CountryCode      False\n",
       "IndicatorName    False\n",
       "IndicatorCode    False\n",
       "Year             False\n",
       "Value            False\n",
       "dtype: bool"
      ]
     },
     "execution_count": 9,
     "metadata": {},
     "output_type": "execute_result"
    }
   ],
   "source": [
    "# checking missing values\n",
    "dataset.isnull().any()"
   ]
  },
  {
   "cell_type": "markdown",
   "metadata": {},
   "source": [
    "# Identifying the Indicator for analysis"
   ]
  },
  {
   "cell_type": "code",
   "execution_count": 10,
   "metadata": {},
   "outputs": [],
   "source": [
    "IndicatorList = dataset['IndicatorName'].unique().tolist()\n",
    "#IndicatorList"
   ]
  },
  {
   "cell_type": "code",
   "execution_count": 11,
   "metadata": {},
   "outputs": [],
   "source": [
    "# Indicator list with \"constanct 2005 US$\"\n",
    "IndicatorList = dataset[dataset['IndicatorName'].str.contains('constant 2005 US')]['IndicatorName'].unique().tolist()"
   ]
  },
  {
   "cell_type": "code",
   "execution_count": 12,
   "metadata": {},
   "outputs": [
    {
     "data": {
      "text/html": [
       "<div>\n",
       "<style scoped>\n",
       "    .dataframe tbody tr th:only-of-type {\n",
       "        vertical-align: middle;\n",
       "    }\n",
       "\n",
       "    .dataframe tbody tr th {\n",
       "        vertical-align: top;\n",
       "    }\n",
       "\n",
       "    .dataframe thead th {\n",
       "        text-align: right;\n",
       "    }\n",
       "</style>\n",
       "<table border=\"1\" class=\"dataframe\">\n",
       "  <thead>\n",
       "    <tr style=\"text-align: right;\">\n",
       "      <th></th>\n",
       "      <th>CountryName</th>\n",
       "      <th>CountryCode</th>\n",
       "      <th>IndicatorName</th>\n",
       "      <th>IndicatorCode</th>\n",
       "      <th>Year</th>\n",
       "      <th>Value</th>\n",
       "    </tr>\n",
       "  </thead>\n",
       "  <tbody>\n",
       "    <tr>\n",
       "      <th>232</th>\n",
       "      <td>East Asia &amp; Pacific (all income levels)</td>\n",
       "      <td>EAS</td>\n",
       "      <td>Agriculture, value added (constant 2005 US$)</td>\n",
       "      <td>NV.AGR.TOTL.KD</td>\n",
       "      <td>1960</td>\n",
       "      <td>1.241655e+11</td>\n",
       "    </tr>\n",
       "    <tr>\n",
       "      <th>261</th>\n",
       "      <td>East Asia &amp; Pacific (all income levels)</td>\n",
       "      <td>EAS</td>\n",
       "      <td>GDP at market prices (constant 2005 US$)</td>\n",
       "      <td>NY.GDP.MKTP.KD</td>\n",
       "      <td>1960</td>\n",
       "      <td>1.023739e+12</td>\n",
       "    </tr>\n",
       "    <tr>\n",
       "      <th>263</th>\n",
       "      <td>East Asia &amp; Pacific (all income levels)</td>\n",
       "      <td>EAS</td>\n",
       "      <td>GDP per capita (constant 2005 US$)</td>\n",
       "      <td>NY.GDP.PCAP.KD</td>\n",
       "      <td>1960</td>\n",
       "      <td>9.820268e+02</td>\n",
       "    </tr>\n",
       "    <tr>\n",
       "      <th>266</th>\n",
       "      <td>East Asia &amp; Pacific (all income levels)</td>\n",
       "      <td>EAS</td>\n",
       "      <td>General government final consumption expenditu...</td>\n",
       "      <td>NE.CON.GOVT.KD</td>\n",
       "      <td>1960</td>\n",
       "      <td>2.048411e+11</td>\n",
       "    </tr>\n",
       "    <tr>\n",
       "      <th>268</th>\n",
       "      <td>East Asia &amp; Pacific (all income levels)</td>\n",
       "      <td>EAS</td>\n",
       "      <td>GNI (constant 2005 US$)</td>\n",
       "      <td>NY.GNP.MKTP.KD</td>\n",
       "      <td>1960</td>\n",
       "      <td>9.926553e+11</td>\n",
       "    </tr>\n",
       "  </tbody>\n",
       "</table>\n",
       "</div>"
      ],
      "text/plain": [
       "                                 CountryName CountryCode  \\\n",
       "232  East Asia & Pacific (all income levels)         EAS   \n",
       "261  East Asia & Pacific (all income levels)         EAS   \n",
       "263  East Asia & Pacific (all income levels)         EAS   \n",
       "266  East Asia & Pacific (all income levels)         EAS   \n",
       "268  East Asia & Pacific (all income levels)         EAS   \n",
       "\n",
       "                                         IndicatorName   IndicatorCode  Year  \\\n",
       "232       Agriculture, value added (constant 2005 US$)  NV.AGR.TOTL.KD  1960   \n",
       "261           GDP at market prices (constant 2005 US$)  NY.GDP.MKTP.KD  1960   \n",
       "263                 GDP per capita (constant 2005 US$)  NY.GDP.PCAP.KD  1960   \n",
       "266  General government final consumption expenditu...  NE.CON.GOVT.KD  1960   \n",
       "268                            GNI (constant 2005 US$)  NY.GNP.MKTP.KD  1960   \n",
       "\n",
       "            Value  \n",
       "232  1.241655e+11  \n",
       "261  1.023739e+12  \n",
       "263  9.820268e+02  \n",
       "266  2.048411e+11  \n",
       "268  9.926553e+11  "
      ]
     },
     "execution_count": 12,
     "metadata": {},
     "output_type": "execute_result"
    }
   ],
   "source": [
    "df = dataset[dataset['IndicatorName'].isin(IndicatorList)]\n",
    "df.head()"
   ]
  },
  {
   "cell_type": "code",
   "execution_count": 13,
   "metadata": {},
   "outputs": [],
   "source": [
    "dfSummary = df.groupby('IndicatorName')"
   ]
  },
  {
   "cell_type": "code",
   "execution_count": 14,
   "metadata": {},
   "outputs": [
    {
     "data": {
      "text/html": [
       "<div>\n",
       "<style scoped>\n",
       "    .dataframe tbody tr th:only-of-type {\n",
       "        vertical-align: middle;\n",
       "    }\n",
       "\n",
       "    .dataframe tbody tr th {\n",
       "        vertical-align: top;\n",
       "    }\n",
       "\n",
       "    .dataframe thead th {\n",
       "        text-align: right;\n",
       "    }\n",
       "</style>\n",
       "<table border=\"1\" class=\"dataframe\">\n",
       "  <thead>\n",
       "    <tr style=\"text-align: right;\">\n",
       "      <th></th>\n",
       "      <th>minYear</th>\n",
       "      <th>maxYear</th>\n",
       "      <th>minValue</th>\n",
       "      <th>maxValue</th>\n",
       "      <th>STDValue</th>\n",
       "    </tr>\n",
       "    <tr>\n",
       "      <th>IndicatorName</th>\n",
       "      <th></th>\n",
       "      <th></th>\n",
       "      <th></th>\n",
       "      <th></th>\n",
       "      <th></th>\n",
       "    </tr>\n",
       "  </thead>\n",
       "  <tbody>\n",
       "    <tr>\n",
       "      <th>Adjusted net national income (constant 2005 US$)</th>\n",
       "      <td>1970</td>\n",
       "      <td>2013</td>\n",
       "      <td>-5.176428e+08</td>\n",
       "      <td>4.637541e+13</td>\n",
       "      <td>4.801916e+12</td>\n",
       "    </tr>\n",
       "    <tr>\n",
       "      <th>Adjusted net national income per capita (constant 2005 US$)</th>\n",
       "      <td>1970</td>\n",
       "      <td>2013</td>\n",
       "      <td>-1.436064e+02</td>\n",
       "      <td>6.224858e+04</td>\n",
       "      <td>1.027457e+04</td>\n",
       "    </tr>\n",
       "    <tr>\n",
       "      <th>Agriculture value added per worker (constant 2005 US$)</th>\n",
       "      <td>1980</td>\n",
       "      <td>2014</td>\n",
       "      <td>8.130222e+01</td>\n",
       "      <td>1.660676e+05</td>\n",
       "      <td>1.302128e+04</td>\n",
       "    </tr>\n",
       "    <tr>\n",
       "      <th>Agriculture, value added (constant 2005 US$)</th>\n",
       "      <td>1960</td>\n",
       "      <td>2014</td>\n",
       "      <td>0.000000e+00</td>\n",
       "      <td>1.912546e+12</td>\n",
       "      <td>1.436454e+11</td>\n",
       "    </tr>\n",
       "    <tr>\n",
       "      <th>Exports of goods and services (constant 2005 US$)</th>\n",
       "      <td>1960</td>\n",
       "      <td>2014</td>\n",
       "      <td>1.136172e+07</td>\n",
       "      <td>1.903094e+13</td>\n",
       "      <td>1.288376e+12</td>\n",
       "    </tr>\n",
       "  </tbody>\n",
       "</table>\n",
       "</div>"
      ],
      "text/plain": [
       "                                                    minYear  maxYear  \\\n",
       "IndicatorName                                                          \n",
       "Adjusted net national income (constant 2005 US$)       1970     2013   \n",
       "Adjusted net national income per capita (consta...     1970     2013   \n",
       "Agriculture value added per worker (constant 20...     1980     2014   \n",
       "Agriculture, value added (constant 2005 US$)           1960     2014   \n",
       "Exports of goods and services (constant 2005 US$)      1960     2014   \n",
       "\n",
       "                                                        minValue  \\\n",
       "IndicatorName                                                      \n",
       "Adjusted net national income (constant 2005 US$)   -5.176428e+08   \n",
       "Adjusted net national income per capita (consta... -1.436064e+02   \n",
       "Agriculture value added per worker (constant 20...  8.130222e+01   \n",
       "Agriculture, value added (constant 2005 US$)        0.000000e+00   \n",
       "Exports of goods and services (constant 2005 US$)   1.136172e+07   \n",
       "\n",
       "                                                        maxValue      STDValue  \n",
       "IndicatorName                                                                   \n",
       "Adjusted net national income (constant 2005 US$)    4.637541e+13  4.801916e+12  \n",
       "Adjusted net national income per capita (consta...  6.224858e+04  1.027457e+04  \n",
       "Agriculture value added per worker (constant 20...  1.660676e+05  1.302128e+04  \n",
       "Agriculture, value added (constant 2005 US$)        1.912546e+12  1.436454e+11  \n",
       "Exports of goods and services (constant 2005 US$)   1.903094e+13  1.288376e+12  "
      ]
     },
     "execution_count": 14,
     "metadata": {},
     "output_type": "execute_result"
    }
   ],
   "source": [
    "aggYear = dfSummary['Year'].agg(['min','max'])\n",
    "aggYear.columns = ['minYear','maxYear']\n",
    "aggValue = dfSummary['Value'].agg(['min','max','std'])\n",
    "aggValue.columns = ['minValue','maxValue','STDValue']\n",
    "\n",
    "aggYear.shape\n",
    "#aggValue.shape\n",
    "#print(aggYear)\n",
    "#print(aggValue)\n",
    "aggdataset = aggYear.merge(aggValue, on = 'IndicatorName', how='inner')\n",
    "aggdataset.shape\n",
    "aggdataset.head()"
   ]
  },
  {
   "cell_type": "code",
   "execution_count": 15,
   "metadata": {},
   "outputs": [],
   "source": [
    "# create csv file\n",
    "aggdataset.to_csv('./data/GDPIndicatorsList.csv',sep =',')"
   ]
  },
  {
   "attachments": {
    "image.png": {
     "image/png": "[encoded data removed]"
    }
   },
   "cell_type": "markdown",
   "metadata": {},
   "source": [
    "# Reserach Qs : \n",
    "What indicators contribute more to the GDP of a country? \n",
    "For emerging economic countries (BRICs), how does the trend change over time due to globalization and development? \n",
    "Which country and sectors are the safest bet to invest for a higher return?\n",
    "![image.png](attachment:image.png)"
   ]
  },
  {
   "cell_type": "code",
   "execution_count": 16,
   "metadata": {},
   "outputs": [
    {
     "data": {
      "text/html": [
       "<div>\n",
       "<style scoped>\n",
       "    .dataframe tbody tr th:only-of-type {\n",
       "        vertical-align: middle;\n",
       "    }\n",
       "\n",
       "    .dataframe tbody tr th {\n",
       "        vertical-align: top;\n",
       "    }\n",
       "\n",
       "    .dataframe thead th {\n",
       "        text-align: right;\n",
       "    }\n",
       "</style>\n",
       "<table border=\"1\" class=\"dataframe\">\n",
       "  <thead>\n",
       "    <tr style=\"text-align: right;\">\n",
       "      <th></th>\n",
       "      <th>CountryName</th>\n",
       "      <th>CountryCode</th>\n",
       "      <th>IndicatorName</th>\n",
       "      <th>IndicatorCode</th>\n",
       "      <th>Year</th>\n",
       "      <th>Value</th>\n",
       "    </tr>\n",
       "  </thead>\n",
       "  <tbody>\n",
       "    <tr>\n",
       "      <th>0</th>\n",
       "      <td>Arab World</td>\n",
       "      <td>ARB</td>\n",
       "      <td>Adolescent fertility rate (births per 1,000 wo...</td>\n",
       "      <td>SP.ADO.TFRT</td>\n",
       "      <td>1960</td>\n",
       "      <td>1.335609e+02</td>\n",
       "    </tr>\n",
       "    <tr>\n",
       "      <th>1</th>\n",
       "      <td>Arab World</td>\n",
       "      <td>ARB</td>\n",
       "      <td>Age dependency ratio (% of working-age populat...</td>\n",
       "      <td>SP.POP.DPND</td>\n",
       "      <td>1960</td>\n",
       "      <td>8.779760e+01</td>\n",
       "    </tr>\n",
       "    <tr>\n",
       "      <th>2</th>\n",
       "      <td>Arab World</td>\n",
       "      <td>ARB</td>\n",
       "      <td>Age dependency ratio, old (% of working-age po...</td>\n",
       "      <td>SP.POP.DPND.OL</td>\n",
       "      <td>1960</td>\n",
       "      <td>6.634579e+00</td>\n",
       "    </tr>\n",
       "    <tr>\n",
       "      <th>3</th>\n",
       "      <td>Arab World</td>\n",
       "      <td>ARB</td>\n",
       "      <td>Age dependency ratio, young (% of working-age ...</td>\n",
       "      <td>SP.POP.DPND.YG</td>\n",
       "      <td>1960</td>\n",
       "      <td>8.102333e+01</td>\n",
       "    </tr>\n",
       "    <tr>\n",
       "      <th>4</th>\n",
       "      <td>Arab World</td>\n",
       "      <td>ARB</td>\n",
       "      <td>Arms exports (SIPRI trend indicator values)</td>\n",
       "      <td>MS.MIL.XPRT.KD</td>\n",
       "      <td>1960</td>\n",
       "      <td>3.000000e+06</td>\n",
       "    </tr>\n",
       "  </tbody>\n",
       "</table>\n",
       "</div>"
      ],
      "text/plain": [
       "  CountryName CountryCode                                      IndicatorName  \\\n",
       "0  Arab World         ARB  Adolescent fertility rate (births per 1,000 wo...   \n",
       "1  Arab World         ARB  Age dependency ratio (% of working-age populat...   \n",
       "2  Arab World         ARB  Age dependency ratio, old (% of working-age po...   \n",
       "3  Arab World         ARB  Age dependency ratio, young (% of working-age ...   \n",
       "4  Arab World         ARB        Arms exports (SIPRI trend indicator values)   \n",
       "\n",
       "    IndicatorCode  Year         Value  \n",
       "0     SP.ADO.TFRT  1960  1.335609e+02  \n",
       "1     SP.POP.DPND  1960  8.779760e+01  \n",
       "2  SP.POP.DPND.OL  1960  6.634579e+00  \n",
       "3  SP.POP.DPND.YG  1960  8.102333e+01  \n",
       "4  MS.MIL.XPRT.KD  1960  3.000000e+06  "
      ]
     },
     "execution_count": 16,
     "metadata": {},
     "output_type": "execute_result"
    }
   ],
   "source": [
    "dataset.head()"
   ]
  },
  {
   "cell_type": "code",
   "execution_count": 17,
   "metadata": {},
   "outputs": [
    {
     "data": {
      "text/html": [
       "<div>\n",
       "<style scoped>\n",
       "    .dataframe tbody tr th:only-of-type {\n",
       "        vertical-align: middle;\n",
       "    }\n",
       "\n",
       "    .dataframe tbody tr th {\n",
       "        vertical-align: top;\n",
       "    }\n",
       "\n",
       "    .dataframe thead th {\n",
       "        text-align: right;\n",
       "    }\n",
       "</style>\n",
       "<table border=\"1\" class=\"dataframe\">\n",
       "  <thead>\n",
       "    <tr style=\"text-align: right;\">\n",
       "      <th></th>\n",
       "      <th>CountryName</th>\n",
       "      <th>CountryCode</th>\n",
       "      <th>IndicatorName</th>\n",
       "      <th>IndicatorCode</th>\n",
       "      <th>Year</th>\n",
       "      <th>Value</th>\n",
       "    </tr>\n",
       "  </thead>\n",
       "  <tbody>\n",
       "    <tr>\n",
       "      <th>261</th>\n",
       "      <td>East Asia &amp; Pacific (all income levels)</td>\n",
       "      <td>EAS</td>\n",
       "      <td>GDP at market prices (constant 2005 US$)</td>\n",
       "      <td>NY.GDP.MKTP.KD</td>\n",
       "      <td>1960</td>\n",
       "      <td>1.023739e+12</td>\n",
       "    </tr>\n",
       "    <tr>\n",
       "      <th>374</th>\n",
       "      <td>East Asia &amp; Pacific (developing only)</td>\n",
       "      <td>EAP</td>\n",
       "      <td>GDP at market prices (constant 2005 US$)</td>\n",
       "      <td>NY.GDP.MKTP.KD</td>\n",
       "      <td>1960</td>\n",
       "      <td>1.511493e+11</td>\n",
       "    </tr>\n",
       "    <tr>\n",
       "      <th>515</th>\n",
       "      <td>Euro area</td>\n",
       "      <td>EMU</td>\n",
       "      <td>GDP at market prices (constant 2005 US$)</td>\n",
       "      <td>NY.GDP.MKTP.KD</td>\n",
       "      <td>1960</td>\n",
       "      <td>2.491733e+12</td>\n",
       "    </tr>\n",
       "    <tr>\n",
       "      <th>621</th>\n",
       "      <td>Europe &amp; Central Asia (all income levels)</td>\n",
       "      <td>ECS</td>\n",
       "      <td>GDP at market prices (constant 2005 US$)</td>\n",
       "      <td>NY.GDP.MKTP.KD</td>\n",
       "      <td>1960</td>\n",
       "      <td>4.370695e+12</td>\n",
       "    </tr>\n",
       "    <tr>\n",
       "      <th>833</th>\n",
       "      <td>European Union</td>\n",
       "      <td>EUU</td>\n",
       "      <td>GDP at market prices (constant 2005 US$)</td>\n",
       "      <td>NY.GDP.MKTP.KD</td>\n",
       "      <td>1960</td>\n",
       "      <td>3.684449e+12</td>\n",
       "    </tr>\n",
       "  </tbody>\n",
       "</table>\n",
       "</div>"
      ],
      "text/plain": [
       "                                   CountryName CountryCode  \\\n",
       "261    East Asia & Pacific (all income levels)         EAS   \n",
       "374      East Asia & Pacific (developing only)         EAP   \n",
       "515                                  Euro area         EMU   \n",
       "621  Europe & Central Asia (all income levels)         ECS   \n",
       "833                             European Union         EUU   \n",
       "\n",
       "                                IndicatorName   IndicatorCode  Year  \\\n",
       "261  GDP at market prices (constant 2005 US$)  NY.GDP.MKTP.KD  1960   \n",
       "374  GDP at market prices (constant 2005 US$)  NY.GDP.MKTP.KD  1960   \n",
       "515  GDP at market prices (constant 2005 US$)  NY.GDP.MKTP.KD  1960   \n",
       "621  GDP at market prices (constant 2005 US$)  NY.GDP.MKTP.KD  1960   \n",
       "833  GDP at market prices (constant 2005 US$)  NY.GDP.MKTP.KD  1960   \n",
       "\n",
       "            Value  \n",
       "261  1.023739e+12  \n",
       "374  1.511493e+11  \n",
       "515  2.491733e+12  \n",
       "621  4.370695e+12  \n",
       "833  3.684449e+12  "
      ]
     },
     "execution_count": 17,
     "metadata": {},
     "output_type": "execute_result"
    }
   ],
   "source": [
    "dataset[dataset['IndicatorName'].str.contains('GDP at market prices \\(constant')].head()"
   ]
  },
  {
   "cell_type": "markdown",
   "metadata": {},
   "source": [
    "# Visualize the latest GDP of all countries"
   ]
  },
  {
   "cell_type": "code",
   "execution_count": 18,
   "metadata": {},
   "outputs": [],
   "source": [
    "import folium"
   ]
  },
  {
   "cell_type": "code",
   "execution_count": 19,
   "metadata": {},
   "outputs": [
    {
     "data": {
      "text/plain": [
       "'geo/world-countries.json'"
      ]
     },
     "execution_count": 19,
     "metadata": {},
     "output_type": "execute_result"
    }
   ],
   "source": [
    "country_geo='geo/world-countries.json'\n",
    "country_geo"
   ]
  },
  {
   "cell_type": "code",
   "execution_count": 20,
   "metadata": {},
   "outputs": [
    {
     "data": {
      "text/html": [
       "<div>\n",
       "<style scoped>\n",
       "    .dataframe tbody tr th:only-of-type {\n",
       "        vertical-align: middle;\n",
       "    }\n",
       "\n",
       "    .dataframe tbody tr th {\n",
       "        vertical-align: top;\n",
       "    }\n",
       "\n",
       "    .dataframe thead th {\n",
       "        text-align: right;\n",
       "    }\n",
       "</style>\n",
       "<table border=\"1\" class=\"dataframe\">\n",
       "  <thead>\n",
       "    <tr style=\"text-align: right;\">\n",
       "      <th></th>\n",
       "      <th>CountryName</th>\n",
       "      <th>CountryCode</th>\n",
       "      <th>IndicatorName</th>\n",
       "      <th>IndicatorCode</th>\n",
       "      <th>Year</th>\n",
       "      <th>Value</th>\n",
       "    </tr>\n",
       "  </thead>\n",
       "  <tbody>\n",
       "    <tr>\n",
       "      <th>261</th>\n",
       "      <td>East Asia &amp; Pacific (all income levels)</td>\n",
       "      <td>EAS</td>\n",
       "      <td>GDP at market prices (constant 2005 US$)</td>\n",
       "      <td>NY.GDP.MKTP.KD</td>\n",
       "      <td>1960</td>\n",
       "      <td>1.023739e+12</td>\n",
       "    </tr>\n",
       "    <tr>\n",
       "      <th>374</th>\n",
       "      <td>East Asia &amp; Pacific (developing only)</td>\n",
       "      <td>EAP</td>\n",
       "      <td>GDP at market prices (constant 2005 US$)</td>\n",
       "      <td>NY.GDP.MKTP.KD</td>\n",
       "      <td>1960</td>\n",
       "      <td>1.511493e+11</td>\n",
       "    </tr>\n",
       "    <tr>\n",
       "      <th>515</th>\n",
       "      <td>Euro area</td>\n",
       "      <td>EMU</td>\n",
       "      <td>GDP at market prices (constant 2005 US$)</td>\n",
       "      <td>NY.GDP.MKTP.KD</td>\n",
       "      <td>1960</td>\n",
       "      <td>2.491733e+12</td>\n",
       "    </tr>\n",
       "    <tr>\n",
       "      <th>621</th>\n",
       "      <td>Europe &amp; Central Asia (all income levels)</td>\n",
       "      <td>ECS</td>\n",
       "      <td>GDP at market prices (constant 2005 US$)</td>\n",
       "      <td>NY.GDP.MKTP.KD</td>\n",
       "      <td>1960</td>\n",
       "      <td>4.370695e+12</td>\n",
       "    </tr>\n",
       "    <tr>\n",
       "      <th>833</th>\n",
       "      <td>European Union</td>\n",
       "      <td>EUU</td>\n",
       "      <td>GDP at market prices (constant 2005 US$)</td>\n",
       "      <td>NY.GDP.MKTP.KD</td>\n",
       "      <td>1960</td>\n",
       "      <td>3.684449e+12</td>\n",
       "    </tr>\n",
       "  </tbody>\n",
       "</table>\n",
       "</div>"
      ],
      "text/plain": [
       "                                   CountryName CountryCode  \\\n",
       "261    East Asia & Pacific (all income levels)         EAS   \n",
       "374      East Asia & Pacific (developing only)         EAP   \n",
       "515                                  Euro area         EMU   \n",
       "621  Europe & Central Asia (all income levels)         ECS   \n",
       "833                             European Union         EUU   \n",
       "\n",
       "                                IndicatorName   IndicatorCode  Year  \\\n",
       "261  GDP at market prices (constant 2005 US$)  NY.GDP.MKTP.KD  1960   \n",
       "374  GDP at market prices (constant 2005 US$)  NY.GDP.MKTP.KD  1960   \n",
       "515  GDP at market prices (constant 2005 US$)  NY.GDP.MKTP.KD  1960   \n",
       "621  GDP at market prices (constant 2005 US$)  NY.GDP.MKTP.KD  1960   \n",
       "833  GDP at market prices (constant 2005 US$)  NY.GDP.MKTP.KD  1960   \n",
       "\n",
       "            Value  \n",
       "261  1.023739e+12  \n",
       "374  1.511493e+11  \n",
       "515  2.491733e+12  \n",
       "621  4.370695e+12  \n",
       "833  3.684449e+12  "
      ]
     },
     "execution_count": 20,
     "metadata": {},
     "output_type": "execute_result"
    }
   ],
   "source": [
    "dataset.head()\n",
    "data = dataset[dataset['IndicatorName'].str.contains('GDP at market prices \\(constant 2005')]\n",
    "data.head()"
   ]
  },
  {
   "cell_type": "code",
   "execution_count": 21,
   "metadata": {},
   "outputs": [],
   "source": [
    "data2014 = data[data['Year']==2014]\n",
    "data2015 = data[data['Year']==2015]"
   ]
  },
  {
   "cell_type": "code",
   "execution_count": 22,
   "metadata": {},
   "outputs": [
    {
     "data": {
      "text/plain": [
       "(212, 0)"
      ]
     },
     "execution_count": 22,
     "metadata": {},
     "output_type": "execute_result"
    }
   ],
   "source": [
    "len(data2014['CountryCode'].unique()),len(data2015['CountryCode'].unique())"
   ]
  },
  {
   "cell_type": "code",
   "execution_count": 23,
   "metadata": {},
   "outputs": [
    {
     "data": {
      "text/html": [
       "<div>\n",
       "<style scoped>\n",
       "    .dataframe tbody tr th:only-of-type {\n",
       "        vertical-align: middle;\n",
       "    }\n",
       "\n",
       "    .dataframe tbody tr th {\n",
       "        vertical-align: top;\n",
       "    }\n",
       "\n",
       "    .dataframe thead th {\n",
       "        text-align: right;\n",
       "    }\n",
       "</style>\n",
       "<table border=\"1\" class=\"dataframe\">\n",
       "  <thead>\n",
       "    <tr style=\"text-align: right;\">\n",
       "      <th></th>\n",
       "      <th>CountryCode</th>\n",
       "      <th>Value</th>\n",
       "    </tr>\n",
       "  </thead>\n",
       "  <tbody>\n",
       "    <tr>\n",
       "      <th>5534375</th>\n",
       "      <td>ARB</td>\n",
       "      <td>1.752424e+12</td>\n",
       "    </tr>\n",
       "    <tr>\n",
       "      <th>5534626</th>\n",
       "      <td>CSS</td>\n",
       "      <td>5.231312e+10</td>\n",
       "    </tr>\n",
       "    <tr>\n",
       "      <th>5534885</th>\n",
       "      <td>CEB</td>\n",
       "      <td>1.101409e+12</td>\n",
       "    </tr>\n",
       "    <tr>\n",
       "      <th>5535232</th>\n",
       "      <td>EAS</td>\n",
       "      <td>1.463782e+13</td>\n",
       "    </tr>\n",
       "    <tr>\n",
       "      <th>5535533</th>\n",
       "      <td>EAP</td>\n",
       "      <td>6.574944e+12</td>\n",
       "    </tr>\n",
       "  </tbody>\n",
       "</table>\n",
       "</div>"
      ],
      "text/plain": [
       "        CountryCode         Value\n",
       "5534375         ARB  1.752424e+12\n",
       "5534626         CSS  5.231312e+10\n",
       "5534885         CEB  1.101409e+12\n",
       "5535232         EAS  1.463782e+13\n",
       "5535533         EAP  6.574944e+12"
      ]
     },
     "execution_count": 23,
     "metadata": {},
     "output_type": "execute_result"
    }
   ],
   "source": [
    "plot_data = data2014[['CountryCode','Value']]\n",
    "plot_data.head()"
   ]
  },
  {
   "cell_type": "code",
   "execution_count": 24,
   "metadata": {},
   "outputs": [
    {
     "name": "stderr",
     "output_type": "stream",
     "text": [
      "C:\\Users\\ajamishr\\AppData\\Local\\Continuum\\anaconda3\\lib\\site-packages\\ipykernel_launcher.py:1: SettingWithCopyWarning: \n",
      "A value is trying to be set on a copy of a slice from a DataFrame.\n",
      "Try using .loc[row_indexer,col_indexer] = value instead\n",
      "\n",
      "See the caveats in the documentation: http://pandas.pydata.org/pandas-docs/stable/indexing.html#indexing-view-versus-copy\n",
      "  \"\"\"Entry point for launching an IPython kernel.\n"
     ]
    }
   ],
   "source": [
    "plot_data['NewValue']=plot_data.iloc[:,1]/10e11"
   ]
  },
  {
   "cell_type": "code",
   "execution_count": 25,
   "metadata": {},
   "outputs": [
    {
     "data": {
      "text/html": [
       "<div>\n",
       "<style scoped>\n",
       "    .dataframe tbody tr th:only-of-type {\n",
       "        vertical-align: middle;\n",
       "    }\n",
       "\n",
       "    .dataframe tbody tr th {\n",
       "        vertical-align: top;\n",
       "    }\n",
       "\n",
       "    .dataframe thead th {\n",
       "        text-align: right;\n",
       "    }\n",
       "</style>\n",
       "<table border=\"1\" class=\"dataframe\">\n",
       "  <thead>\n",
       "    <tr style=\"text-align: right;\">\n",
       "      <th></th>\n",
       "      <th>CountryCode</th>\n",
       "      <th>Value</th>\n",
       "      <th>NewValue</th>\n",
       "    </tr>\n",
       "  </thead>\n",
       "  <tbody>\n",
       "    <tr>\n",
       "      <th>5534375</th>\n",
       "      <td>ARB</td>\n",
       "      <td>1.752424e+12</td>\n",
       "      <td>1.752424</td>\n",
       "    </tr>\n",
       "    <tr>\n",
       "      <th>5534626</th>\n",
       "      <td>CSS</td>\n",
       "      <td>5.231312e+10</td>\n",
       "      <td>0.052313</td>\n",
       "    </tr>\n",
       "    <tr>\n",
       "      <th>5534885</th>\n",
       "      <td>CEB</td>\n",
       "      <td>1.101409e+12</td>\n",
       "      <td>1.101409</td>\n",
       "    </tr>\n",
       "    <tr>\n",
       "      <th>5535232</th>\n",
       "      <td>EAS</td>\n",
       "      <td>1.463782e+13</td>\n",
       "      <td>14.637816</td>\n",
       "    </tr>\n",
       "    <tr>\n",
       "      <th>5535533</th>\n",
       "      <td>EAP</td>\n",
       "      <td>6.574944e+12</td>\n",
       "      <td>6.574944</td>\n",
       "    </tr>\n",
       "  </tbody>\n",
       "</table>\n",
       "</div>"
      ],
      "text/plain": [
       "        CountryCode         Value   NewValue\n",
       "5534375         ARB  1.752424e+12   1.752424\n",
       "5534626         CSS  5.231312e+10   0.052313\n",
       "5534885         CEB  1.101409e+12   1.101409\n",
       "5535232         EAS  1.463782e+13  14.637816\n",
       "5535533         EAP  6.574944e+12   6.574944"
      ]
     },
     "execution_count": 25,
     "metadata": {},
     "output_type": "execute_result"
    }
   ],
   "source": [
    "plot_data.head()"
   ]
  },
  {
   "cell_type": "code",
   "execution_count": 26,
   "metadata": {},
   "outputs": [
    {
     "data": {
      "text/plain": [
       "(2.67283029818605e-05, 58.1483616982774)"
      ]
     },
     "execution_count": 26,
     "metadata": {},
     "output_type": "execute_result"
    }
   ],
   "source": [
    "plot_data['NewValue'].min(),plot_data['NewValue'].max()"
   ]
  },
  {
   "cell_type": "code",
   "execution_count": 27,
   "metadata": {},
   "outputs": [
    {
     "data": {
      "text/plain": [
       "'GDP at market prices (constant 2005 US$)'"
      ]
     },
     "execution_count": 27,
     "metadata": {},
     "output_type": "execute_result"
    }
   ],
   "source": [
    "plot_indicator = data2014['IndicatorName'].iloc[0]\n",
    "plot_indicator"
   ]
  },
  {
   "cell_type": "code",
   "execution_count": 28,
   "metadata": {},
   "outputs": [
    {
     "data": {
      "text/plain": [
       "'./data\\\\world-countries.json'"
      ]
     },
     "execution_count": 28,
     "metadata": {},
     "output_type": "execute_result"
    }
   ],
   "source": [
    "#world_geo = os.path.join('C:/Users/ajamishr/Documents/Python/geo', 'world-countries.json')\n",
    "world_geo = os.path.join('./data', 'world-countries.json')\n",
    "world_geo"
   ]
  },
  {
   "cell_type": "code",
   "execution_count": 29,
   "metadata": {},
   "outputs": [],
   "source": [
    "#map = folium.Map(location=[45.5236, -122.6750], zoom_start=1.5)\n",
    "map = folium.Map(location=[100, 0], zoom_start=2)"
   ]
  },
  {
   "cell_type": "code",
   "execution_count": 30,
   "metadata": {},
   "outputs": [
    {
     "data": {
      "text/plain": [
       "<folium.map.Marker at 0x1981a39f940>"
      ]
     },
     "execution_count": 30,
     "metadata": {},
     "output_type": "execute_result"
    }
   ],
   "source": [
    "map.choropleth(\n",
    "    geo_data=world_geo,\n",
    "    name='choropleth',\n",
    "    data=plot_data,\n",
    "    columns=['CountryCode', 'NewValue'],\n",
    "    key_on='feature.id',\n",
    "    fill_color='YlGn',\n",
    "    fill_opacity=0.9,\n",
    "    line_opacity=0.9,\n",
    "    legend_name='GDP value of a country in 10e11'\n",
    ")\n",
    "\n",
    "# BRICS markers\n",
    "folium.Marker([-10, -55], popup='Brazil',icon=folium.Icon(color='blue')).add_to(map)\n",
    "folium.Marker([60, 100], popup='Russia',icon=folium.Icon(color='red')).add_to(map)\n",
    "folium.Marker([20, 77], popup='India', icon=folium.Icon(color='orange')).add_to(map)\n",
    "folium.Marker([35, 105], popup='China',icon=folium.Icon(color='green')).add_to(map)\n",
    "folium.Marker([-29, 24], popup='South Africa',icon=folium.Icon(color='gray')).add_to(map)"
   ]
  },
  {
   "cell_type": "code",
   "execution_count": 31,
   "metadata": {},
   "outputs": [],
   "source": [
    "map.save('GDPWorld.html')"
   ]
  },
  {
   "attachments": {
    "image.png": {
     "image/png": "[encoded data removed]"
    }
   },
   "cell_type": "markdown",
   "metadata": {},
   "source": [
    "BRICs Countries - GDP and Trend![image.png](attachment:image.png)"
   ]
  },
  {
   "cell_type": "code",
   "execution_count": 32,
   "metadata": {},
   "outputs": [],
   "source": [
    "IndicatorFilter1 = 'GDP at market prices \\(constant 2005'"
   ]
  },
  {
   "cell_type": "code",
   "execution_count": 33,
   "metadata": {},
   "outputs": [],
   "source": [
    "# Year filters\n",
    "#stage1['Year'].unique().tolist()\n",
    "#YearFilter = [1960,1970,1980,1990,2000,2010,2014]\n",
    "YearFilter = [1980,1990,2000,2010,2014]"
   ]
  },
  {
   "cell_type": "code",
   "execution_count": 34,
   "metadata": {},
   "outputs": [
    {
     "data": {
      "text/plain": [
       "[1980, 1990, 2000, 2010, 2014]"
      ]
     },
     "execution_count": 34,
     "metadata": {},
     "output_type": "execute_result"
    }
   ],
   "source": [
    "YearFilter"
   ]
  },
  {
   "cell_type": "code",
   "execution_count": 35,
   "metadata": {},
   "outputs": [
    {
     "name": "stdout",
     "output_type": "stream",
     "text": [
      "<class 'list'>\n"
     ]
    },
    {
     "data": {
      "text/plain": [
       "['BRA', 'RUS', 'IND', 'CHN', 'ZAF']"
      ]
     },
     "execution_count": 35,
     "metadata": {},
     "output_type": "execute_result"
    }
   ],
   "source": [
    "# BRICS countries\n",
    "CountryFilter = ['BRA','RUS','IND','CHN','ZAF']\n",
    "print(type(CountryFilter))\n",
    "CountryFilter"
   ]
  },
  {
   "cell_type": "code",
   "execution_count": 36,
   "metadata": {},
   "outputs": [],
   "source": [
    "mask1 = dataset['IndicatorName'].str.contains(IndicatorFilter1)"
   ]
  },
  {
   "cell_type": "code",
   "execution_count": 37,
   "metadata": {},
   "outputs": [],
   "source": [
    "mask2 = dataset['Year'].isin(YearFilter)"
   ]
  },
  {
   "cell_type": "code",
   "execution_count": 38,
   "metadata": {},
   "outputs": [],
   "source": [
    "mask3 = dataset['CountryCode'].isin(CountryFilter)"
   ]
  },
  {
   "cell_type": "code",
   "execution_count": 39,
   "metadata": {},
   "outputs": [],
   "source": [
    "df1 = dataset[mask1 & mask2 & mask3]"
   ]
  },
  {
   "cell_type": "code",
   "execution_count": 40,
   "metadata": {},
   "outputs": [
    {
     "data": {
      "text/plain": [
       "(24, 6)"
      ]
     },
     "execution_count": 40,
     "metadata": {},
     "output_type": "execute_result"
    }
   ],
   "source": [
    "df1.shape"
   ]
  },
  {
   "cell_type": "markdown",
   "metadata": {},
   "source": [
    "# Indicator I: Manufacturing, value added (constant 2005 US$)"
   ]
  },
  {
   "cell_type": "code",
   "execution_count": 41,
   "metadata": {},
   "outputs": [],
   "source": [
    "IndicatorFilter2 = 'Manufacturing, value added \\(constant 2005'#  #'Agriculture, value added \\(%'   #'Foreign direct investment'\n",
    "mask4 = dataset['IndicatorName'].str.contains(IndicatorFilter2)\n",
    "df2 = dataset[mask4 & mask2 & mask3]"
   ]
  },
  {
   "cell_type": "code",
   "execution_count": 42,
   "metadata": {},
   "outputs": [
    {
     "name": "stdout",
     "output_type": "stream",
     "text": [
      "['CHN' 'IND' 'ZAF' 'BRA']\n",
      "[1980 1990 2000 2010 2014]\n"
     ]
    },
    {
     "data": {
      "text/html": [
       "<div>\n",
       "<style scoped>\n",
       "    .dataframe tbody tr th:only-of-type {\n",
       "        vertical-align: middle;\n",
       "    }\n",
       "\n",
       "    .dataframe tbody tr th {\n",
       "        vertical-align: top;\n",
       "    }\n",
       "\n",
       "    .dataframe thead th {\n",
       "        text-align: right;\n",
       "    }\n",
       "</style>\n",
       "<table border=\"1\" class=\"dataframe\">\n",
       "  <thead>\n",
       "    <tr style=\"text-align: right;\">\n",
       "      <th></th>\n",
       "      <th>CountryName</th>\n",
       "      <th>CountryCode</th>\n",
       "      <th>IndicatorName</th>\n",
       "      <th>IndicatorCode</th>\n",
       "      <th>Year</th>\n",
       "      <th>Value</th>\n",
       "    </tr>\n",
       "  </thead>\n",
       "  <tbody>\n",
       "    <tr>\n",
       "      <th>1034757</th>\n",
       "      <td>China</td>\n",
       "      <td>CHN</td>\n",
       "      <td>Manufacturing, value added (constant 2005 US$)</td>\n",
       "      <td>NV.IND.MANF.KD</td>\n",
       "      <td>1980</td>\n",
       "      <td>6.138411e+10</td>\n",
       "    </tr>\n",
       "    <tr>\n",
       "      <th>1051638</th>\n",
       "      <td>India</td>\n",
       "      <td>IND</td>\n",
       "      <td>Manufacturing, value added (constant 2005 US$)</td>\n",
       "      <td>NV.IND.MANF.KD</td>\n",
       "      <td>1980</td>\n",
       "      <td>2.629798e+10</td>\n",
       "    </tr>\n",
       "    <tr>\n",
       "      <th>1080022</th>\n",
       "      <td>South Africa</td>\n",
       "      <td>ZAF</td>\n",
       "      <td>Manufacturing, value added (constant 2005 US$)</td>\n",
       "      <td>NV.IND.MANF.KD</td>\n",
       "      <td>1980</td>\n",
       "      <td>2.786125e+10</td>\n",
       "    </tr>\n",
       "    <tr>\n",
       "      <th>1907585</th>\n",
       "      <td>Brazil</td>\n",
       "      <td>BRA</td>\n",
       "      <td>Manufacturing, value added (constant 2005 US$)</td>\n",
       "      <td>NV.IND.MANF.KD</td>\n",
       "      <td>1990</td>\n",
       "      <td>1.105292e+11</td>\n",
       "    </tr>\n",
       "    <tr>\n",
       "      <th>1914989</th>\n",
       "      <td>China</td>\n",
       "      <td>CHN</td>\n",
       "      <td>Manufacturing, value added (constant 2005 US$)</td>\n",
       "      <td>NV.IND.MANF.KD</td>\n",
       "      <td>1990</td>\n",
       "      <td>1.528899e+11</td>\n",
       "    </tr>\n",
       "  </tbody>\n",
       "</table>\n",
       "</div>"
      ],
      "text/plain": [
       "          CountryName CountryCode  \\\n",
       "1034757         China         CHN   \n",
       "1051638         India         IND   \n",
       "1080022  South Africa         ZAF   \n",
       "1907585        Brazil         BRA   \n",
       "1914989         China         CHN   \n",
       "\n",
       "                                          IndicatorName   IndicatorCode  Year  \\\n",
       "1034757  Manufacturing, value added (constant 2005 US$)  NV.IND.MANF.KD  1980   \n",
       "1051638  Manufacturing, value added (constant 2005 US$)  NV.IND.MANF.KD  1980   \n",
       "1080022  Manufacturing, value added (constant 2005 US$)  NV.IND.MANF.KD  1980   \n",
       "1907585  Manufacturing, value added (constant 2005 US$)  NV.IND.MANF.KD  1990   \n",
       "1914989  Manufacturing, value added (constant 2005 US$)  NV.IND.MANF.KD  1990   \n",
       "\n",
       "                Value  \n",
       "1034757  6.138411e+10  \n",
       "1051638  2.629798e+10  \n",
       "1080022  2.786125e+10  \n",
       "1907585  1.105292e+11  \n",
       "1914989  1.528899e+11  "
      ]
     },
     "execution_count": 42,
     "metadata": {},
     "output_type": "execute_result"
    }
   ],
   "source": [
    "df2.shape\n",
    "print(df2['CountryCode'].unique())\n",
    "print(df2['Year'].unique())\n",
    "df2.head(5)"
   ]
  },
  {
   "cell_type": "code",
   "execution_count": 43,
   "metadata": {},
   "outputs": [
    {
     "data": {
      "text/html": [
       "<div>\n",
       "<style scoped>\n",
       "    .dataframe tbody tr th:only-of-type {\n",
       "        vertical-align: middle;\n",
       "    }\n",
       "\n",
       "    .dataframe tbody tr th {\n",
       "        vertical-align: top;\n",
       "    }\n",
       "\n",
       "    .dataframe thead th {\n",
       "        text-align: right;\n",
       "    }\n",
       "</style>\n",
       "<table border=\"1\" class=\"dataframe\">\n",
       "  <thead>\n",
       "    <tr style=\"text-align: right;\">\n",
       "      <th></th>\n",
       "      <th>CountryName</th>\n",
       "      <th>CountryCode</th>\n",
       "      <th>IndicatorName</th>\n",
       "      <th>IndicatorCode</th>\n",
       "      <th>Year</th>\n",
       "      <th>Value</th>\n",
       "    </tr>\n",
       "  </thead>\n",
       "  <tbody>\n",
       "    <tr>\n",
       "      <th>1051638</th>\n",
       "      <td>India</td>\n",
       "      <td>IND</td>\n",
       "      <td>Manufacturing, value added (constant 2005 US$)</td>\n",
       "      <td>NV.IND.MANF.KD</td>\n",
       "      <td>1980</td>\n",
       "      <td>2.629798e+10</td>\n",
       "    </tr>\n",
       "    <tr>\n",
       "      <th>1937892</th>\n",
       "      <td>India</td>\n",
       "      <td>IND</td>\n",
       "      <td>Manufacturing, value added (constant 2005 US$)</td>\n",
       "      <td>NV.IND.MANF.KD</td>\n",
       "      <td>1990</td>\n",
       "      <td>4.800201e+10</td>\n",
       "    </tr>\n",
       "    <tr>\n",
       "      <th>3245935</th>\n",
       "      <td>India</td>\n",
       "      <td>IND</td>\n",
       "      <td>Manufacturing, value added (constant 2005 US$)</td>\n",
       "      <td>NV.IND.MANF.KD</td>\n",
       "      <td>2000</td>\n",
       "      <td>8.574991e+10</td>\n",
       "    </tr>\n",
       "    <tr>\n",
       "      <th>4929685</th>\n",
       "      <td>India</td>\n",
       "      <td>IND</td>\n",
       "      <td>Manufacturing, value added (constant 2005 US$)</td>\n",
       "      <td>NV.IND.MANF.KD</td>\n",
       "      <td>2010</td>\n",
       "      <td>1.860849e+11</td>\n",
       "    </tr>\n",
       "    <tr>\n",
       "      <th>5585488</th>\n",
       "      <td>India</td>\n",
       "      <td>IND</td>\n",
       "      <td>Manufacturing, value added (constant 2005 US$)</td>\n",
       "      <td>NV.IND.MANF.KD</td>\n",
       "      <td>2014</td>\n",
       "      <td>2.382549e+11</td>\n",
       "    </tr>\n",
       "  </tbody>\n",
       "</table>\n",
       "</div>"
      ],
      "text/plain": [
       "        CountryName CountryCode  \\\n",
       "1051638       India         IND   \n",
       "1937892       India         IND   \n",
       "3245935       India         IND   \n",
       "4929685       India         IND   \n",
       "5585488       India         IND   \n",
       "\n",
       "                                          IndicatorName   IndicatorCode  Year  \\\n",
       "1051638  Manufacturing, value added (constant 2005 US$)  NV.IND.MANF.KD  1980   \n",
       "1937892  Manufacturing, value added (constant 2005 US$)  NV.IND.MANF.KD  1990   \n",
       "3245935  Manufacturing, value added (constant 2005 US$)  NV.IND.MANF.KD  2000   \n",
       "4929685  Manufacturing, value added (constant 2005 US$)  NV.IND.MANF.KD  2010   \n",
       "5585488  Manufacturing, value added (constant 2005 US$)  NV.IND.MANF.KD  2014   \n",
       "\n",
       "                Value  \n",
       "1051638  2.629798e+10  \n",
       "1937892  4.800201e+10  \n",
       "3245935  8.574991e+10  \n",
       "4929685  1.860849e+11  \n",
       "5585488  2.382549e+11  "
      ]
     },
     "execution_count": 43,
     "metadata": {},
     "output_type": "execute_result"
    }
   ],
   "source": [
    "df2[df2['CountryCode']=='IND']"
   ]
  },
  {
   "cell_type": "markdown",
   "metadata": {},
   "source": [
    "# Indicator II: Agriculture, value added (constant 2005 US$)"
   ]
  },
  {
   "cell_type": "code",
   "execution_count": 44,
   "metadata": {},
   "outputs": [],
   "source": [
    "IndicatorFilter3 ='Agriculture, value added \\(constant 2005 '# 'Exports of goods and services \\(constant 2005'\n",
    "#IndicatorFilter2 ='Services, etc., value added \\(constant 2005'# US$)\n",
    "#'Manufacturing, value added \\(constant 2005'#  #'Agriculture, value added \\(%'   #'Foreign direct investment'\n",
    "mask5 = dataset['IndicatorName'].str.contains(IndicatorFilter3)\n",
    "df3 = dataset[mask5 & mask2 & mask3]"
   ]
  },
  {
   "cell_type": "code",
   "execution_count": 45,
   "metadata": {},
   "outputs": [
    {
     "name": "stdout",
     "output_type": "stream",
     "text": [
      "['BRA' 'CHN' 'IND' 'ZAF' 'RUS']\n",
      "[1980 1990 2000 2010 2014]\n"
     ]
    },
    {
     "data": {
      "text/html": [
       "<div>\n",
       "<style scoped>\n",
       "    .dataframe tbody tr th:only-of-type {\n",
       "        vertical-align: middle;\n",
       "    }\n",
       "\n",
       "    .dataframe tbody tr th {\n",
       "        vertical-align: top;\n",
       "    }\n",
       "\n",
       "    .dataframe thead th {\n",
       "        text-align: right;\n",
       "    }\n",
       "</style>\n",
       "<table border=\"1\" class=\"dataframe\">\n",
       "  <thead>\n",
       "    <tr style=\"text-align: right;\">\n",
       "      <th></th>\n",
       "      <th>CountryName</th>\n",
       "      <th>CountryCode</th>\n",
       "      <th>IndicatorName</th>\n",
       "      <th>IndicatorCode</th>\n",
       "      <th>Year</th>\n",
       "      <th>Value</th>\n",
       "    </tr>\n",
       "  </thead>\n",
       "  <tbody>\n",
       "    <tr>\n",
       "      <th>1029540</th>\n",
       "      <td>Brazil</td>\n",
       "      <td>BRA</td>\n",
       "      <td>Agriculture, value added (constant 2005 US$)</td>\n",
       "      <td>NV.AGR.TOTL.KD</td>\n",
       "      <td>1980</td>\n",
       "      <td>1.876805e+10</td>\n",
       "    </tr>\n",
       "    <tr>\n",
       "      <th>1034560</th>\n",
       "      <td>China</td>\n",
       "      <td>CHN</td>\n",
       "      <td>Agriculture, value added (constant 2005 US$)</td>\n",
       "      <td>NV.AGR.TOTL.KD</td>\n",
       "      <td>1980</td>\n",
       "      <td>8.400877e+10</td>\n",
       "    </tr>\n",
       "    <tr>\n",
       "      <th>1051355</th>\n",
       "      <td>India</td>\n",
       "      <td>IND</td>\n",
       "      <td>Agriculture, value added (constant 2005 US$)</td>\n",
       "      <td>NV.AGR.TOTL.KD</td>\n",
       "      <td>1980</td>\n",
       "      <td>6.906304e+10</td>\n",
       "    </tr>\n",
       "    <tr>\n",
       "      <th>1079810</th>\n",
       "      <td>South Africa</td>\n",
       "      <td>ZAF</td>\n",
       "      <td>Agriculture, value added (constant 2005 US$)</td>\n",
       "      <td>NV.AGR.TOTL.KD</td>\n",
       "      <td>1980</td>\n",
       "      <td>4.445439e+09</td>\n",
       "    </tr>\n",
       "    <tr>\n",
       "      <th>1907217</th>\n",
       "      <td>Brazil</td>\n",
       "      <td>BRA</td>\n",
       "      <td>Agriculture, value added (constant 2005 US$)</td>\n",
       "      <td>NV.AGR.TOTL.KD</td>\n",
       "      <td>1990</td>\n",
       "      <td>2.406863e+10</td>\n",
       "    </tr>\n",
       "  </tbody>\n",
       "</table>\n",
       "</div>"
      ],
      "text/plain": [
       "          CountryName CountryCode  \\\n",
       "1029540        Brazil         BRA   \n",
       "1034560         China         CHN   \n",
       "1051355         India         IND   \n",
       "1079810  South Africa         ZAF   \n",
       "1907217        Brazil         BRA   \n",
       "\n",
       "                                        IndicatorName   IndicatorCode  Year  \\\n",
       "1029540  Agriculture, value added (constant 2005 US$)  NV.AGR.TOTL.KD  1980   \n",
       "1034560  Agriculture, value added (constant 2005 US$)  NV.AGR.TOTL.KD  1980   \n",
       "1051355  Agriculture, value added (constant 2005 US$)  NV.AGR.TOTL.KD  1980   \n",
       "1079810  Agriculture, value added (constant 2005 US$)  NV.AGR.TOTL.KD  1980   \n",
       "1907217  Agriculture, value added (constant 2005 US$)  NV.AGR.TOTL.KD  1990   \n",
       "\n",
       "                Value  \n",
       "1029540  1.876805e+10  \n",
       "1034560  8.400877e+10  \n",
       "1051355  6.906304e+10  \n",
       "1079810  4.445439e+09  \n",
       "1907217  2.406863e+10  "
      ]
     },
     "execution_count": 45,
     "metadata": {},
     "output_type": "execute_result"
    }
   ],
   "source": [
    "df3.shape\n",
    "print(df3['CountryCode'].unique())\n",
    "print(df3['Year'].unique())\n",
    "df3.head(5)"
   ]
  },
  {
   "cell_type": "markdown",
   "metadata": {},
   "source": [
    "# Indicator III: Services, etc., value added (constant 2005 US$)"
   ]
  },
  {
   "cell_type": "code",
   "execution_count": 46,
   "metadata": {},
   "outputs": [],
   "source": [
    "IndicatorFilter4 ='Services, etc., value added \\(constant 2005'# US$)\n",
    "#'Manufacturing, value added \\(constant 2005'#  #'Agriculture, value added \\(%'   #'Foreign direct investment'\n",
    "mask6 = dataset['IndicatorName'].str.contains(IndicatorFilter4)\n",
    "df4 = dataset[mask6 & mask2 & mask3]"
   ]
  },
  {
   "cell_type": "code",
   "execution_count": 47,
   "metadata": {},
   "outputs": [
    {
     "name": "stdout",
     "output_type": "stream",
     "text": [
      "['CHN' 'IND' 'ZAF' 'RUS' 'BRA']\n",
      "[1980 1990 2000 2010 2014]\n"
     ]
    },
    {
     "data": {
      "text/html": [
       "<div>\n",
       "<style scoped>\n",
       "    .dataframe tbody tr th:only-of-type {\n",
       "        vertical-align: middle;\n",
       "    }\n",
       "\n",
       "    .dataframe tbody tr th {\n",
       "        vertical-align: top;\n",
       "    }\n",
       "\n",
       "    .dataframe thead th {\n",
       "        text-align: right;\n",
       "    }\n",
       "</style>\n",
       "<table border=\"1\" class=\"dataframe\">\n",
       "  <thead>\n",
       "    <tr style=\"text-align: right;\">\n",
       "      <th></th>\n",
       "      <th>CountryName</th>\n",
       "      <th>CountryCode</th>\n",
       "      <th>IndicatorName</th>\n",
       "      <th>IndicatorCode</th>\n",
       "      <th>Year</th>\n",
       "      <th>Value</th>\n",
       "    </tr>\n",
       "  </thead>\n",
       "  <tbody>\n",
       "    <tr>\n",
       "      <th>1034876</th>\n",
       "      <td>China</td>\n",
       "      <td>CHN</td>\n",
       "      <td>Services, etc., value added (constant 2005 US$)</td>\n",
       "      <td>NV.SRV.TETC.KD</td>\n",
       "      <td>1980</td>\n",
       "      <td>6.754895e+10</td>\n",
       "    </tr>\n",
       "    <tr>\n",
       "      <th>1051875</th>\n",
       "      <td>India</td>\n",
       "      <td>IND</td>\n",
       "      <td>Services, etc., value added (constant 2005 US$)</td>\n",
       "      <td>NV.SRV.TETC.KD</td>\n",
       "      <td>1980</td>\n",
       "      <td>7.173092e+10</td>\n",
       "    </tr>\n",
       "    <tr>\n",
       "      <th>1080113</th>\n",
       "      <td>South Africa</td>\n",
       "      <td>ZAF</td>\n",
       "      <td>Services, etc., value added (constant 2005 US$)</td>\n",
       "      <td>NV.SRV.TETC.KD</td>\n",
       "      <td>1980</td>\n",
       "      <td>8.581488e+10</td>\n",
       "    </tr>\n",
       "    <tr>\n",
       "      <th>1915296</th>\n",
       "      <td>China</td>\n",
       "      <td>CHN</td>\n",
       "      <td>Services, etc., value added (constant 2005 US$)</td>\n",
       "      <td>NV.SRV.TETC.KD</td>\n",
       "      <td>1990</td>\n",
       "      <td>2.146332e+11</td>\n",
       "    </tr>\n",
       "    <tr>\n",
       "      <th>1938187</th>\n",
       "      <td>India</td>\n",
       "      <td>IND</td>\n",
       "      <td>Services, etc., value added (constant 2005 US$)</td>\n",
       "      <td>NV.SRV.TETC.KD</td>\n",
       "      <td>1990</td>\n",
       "      <td>1.342344e+11</td>\n",
       "    </tr>\n",
       "  </tbody>\n",
       "</table>\n",
       "</div>"
      ],
      "text/plain": [
       "          CountryName CountryCode  \\\n",
       "1034876         China         CHN   \n",
       "1051875         India         IND   \n",
       "1080113  South Africa         ZAF   \n",
       "1915296         China         CHN   \n",
       "1938187         India         IND   \n",
       "\n",
       "                                           IndicatorName   IndicatorCode  \\\n",
       "1034876  Services, etc., value added (constant 2005 US$)  NV.SRV.TETC.KD   \n",
       "1051875  Services, etc., value added (constant 2005 US$)  NV.SRV.TETC.KD   \n",
       "1080113  Services, etc., value added (constant 2005 US$)  NV.SRV.TETC.KD   \n",
       "1915296  Services, etc., value added (constant 2005 US$)  NV.SRV.TETC.KD   \n",
       "1938187  Services, etc., value added (constant 2005 US$)  NV.SRV.TETC.KD   \n",
       "\n",
       "         Year         Value  \n",
       "1034876  1980  6.754895e+10  \n",
       "1051875  1980  7.173092e+10  \n",
       "1080113  1980  8.581488e+10  \n",
       "1915296  1990  2.146332e+11  \n",
       "1938187  1990  1.342344e+11  "
      ]
     },
     "execution_count": 47,
     "metadata": {},
     "output_type": "execute_result"
    }
   ],
   "source": [
    "df4.shape\n",
    "print(df4['CountryCode'].unique())\n",
    "print(df4['Year'].unique())\n",
    "df4.head(5)"
   ]
  },
  {
   "cell_type": "code",
   "execution_count": 48,
   "metadata": {},
   "outputs": [
    {
     "name": "stdout",
     "output_type": "stream",
     "text": [
      "GDP at market prices \\(constant 2005\n",
      "Manufacturing, value added \\(constant 2005\n",
      "Agriculture, value added \\(constant 2005 \n",
      "Services, etc., value added \\(constant 2005\n"
     ]
    }
   ],
   "source": [
    "print(IndicatorFilter1)\n",
    "print(IndicatorFilter2)\n",
    "print(IndicatorFilter3)\n",
    "print(IndicatorFilter4)"
   ]
  },
  {
   "cell_type": "code",
   "execution_count": 49,
   "metadata": {},
   "outputs": [
    {
     "data": {
      "image/png": "[encoded data removed]",
      "text/plain": [
       "<Figure size 1440x1440 with 4 Axes>"
      ]
     },
     "metadata": {},
     "output_type": "display_data"
    }
   ],
   "source": [
    "# 4 plots\n",
    "from matplotlib import gridspec\n",
    "\n",
    "plt.style.use('fivethirtyeight') # using the fivethirtyeight matplotlib theme\n",
    "\n",
    "fig = plt.figure(figsize=(20, 20)) \n",
    "#gs = gridspec.GridSpec(1, 2, width_ratios=[1, 1]) \n",
    "gs = gridspec.GridSpec(4, 1)#, width_ratios=[1, 1]) \n",
    "\n",
    "ax0 = plt.subplot(gs[0,:])\n",
    "### Plot 1 \"GDP at market prices (constant 2005 US$)\"\n",
    "ax0.set_ylim(min(0,df1['Value'].min()), 1.2*df1['Value'].max())\n",
    "ax0.set_title('Indicator Name : ' + df1['IndicatorName'].values[0],fontweight=\"bold\")\n",
    "\n",
    "for i in CountryFilter:\n",
    "    CCode = i\n",
    "    X=df1[df1['CountryCode'].str.contains(CCode)]['Year']\n",
    "    Y=df1[df1['CountryCode'].str.contains(CCode)]['Value']\n",
    "    ax0.plot(X, Y, '-',label=CCode)\n",
    "\n",
    "\n",
    "# Add the legend\n",
    "legend = plt.legend(loc = 'upper left', \n",
    "                    shadow=True,\n",
    "                    prop={'weight':'roman','size':'xx-large'})\n",
    "\n",
    "# Rectangle around the legend\n",
    "frame = legend.get_frame()\n",
    "frame.set_facecolor('.95')\n",
    "#plt.show()\n",
    "\n",
    "# Plot 2 \"Manufacturing, value added (constant 2005 US$)\"\n",
    "\n",
    "ax1 = plt.subplot(gs[1,:])\n",
    "\n",
    "ax1.set_ylim(min(0,df1['Value'].min()), 1.2*df1['Value'].max())\n",
    "#ax1.set_ylim(min(0,df2['Value'].min()), 1.2*df2['Value'].max()) # keeping same as above\n",
    "#ax1.set_ylim(0, 4.5) # keeping same as above\n",
    "ax1.set_title('Indicator Name : ' + df2['IndicatorName'].values[0],fontweight=\"bold\")\n",
    "\n",
    "for i in CountryFilter:\n",
    "    CCode = i\n",
    "    X=df2[df2['CountryCode'].str.contains(CCode)]['Year']\n",
    "    Y=df2[df2['CountryCode'].str.contains(CCode)]['Value']\n",
    "    ax1.plot(X, Y, '-',label=CCode)\n",
    "\n",
    "# Add the legend\n",
    "legend = plt.legend(loc = 'upper left', \n",
    "                    shadow=True,\n",
    "                    prop={'weight':'roman','size':'xx-large'})\n",
    "\n",
    "# Rectangle around the legend\n",
    "frame = legend.get_frame()\n",
    "frame.set_facecolor('.95')    \n",
    "\n",
    "# Add the legend\n",
    "#legend = plt.legend(loc = 'upper left', \n",
    "#                    shadow=True,\n",
    "#                    prop={'weight':'roman','size':'xx-large'})\n",
    "\n",
    "# Rectangle around the legend\n",
    "#frame = legend.get_frame()\n",
    "#frame.set_facecolor('.95')\n",
    "\n",
    "#Plot 3 \"Agriculture, value added (constant 2005 US$)\"\n",
    "ax2 = plt.subplot(gs[2,:])\n",
    "\n",
    "### plot 3\n",
    "#ax2.set_ylim(min(0,df3['Value'].min()), 1.2*df3['Value'].max()) # keeping same as above\n",
    "#ax2.set_ylim(min(0,df2['Value'].min()), 1.2*df2['Value'].max()) # keeping same as above\n",
    "ax2.set_ylim(min(0,df1['Value'].min()), 1.2*df1['Value'].max())\n",
    "ax2.set_title('Indicator Name : ' + df3['IndicatorName'].values[0],fontweight=\"bold\")\n",
    "\n",
    "for i in CountryFilter:\n",
    "    CCode = i\n",
    "    X=df3[df3['CountryCode'].str.contains(CCode)]['Year']\n",
    "    Y=df3[df3['CountryCode'].str.contains(CCode)]['Value']\n",
    "    ax2.plot(X, Y, '-',label=CCode)\n",
    "\n",
    "# Add the legend\n",
    "legend = plt.legend(loc = 'upper left', \n",
    "                    shadow=True,\n",
    "                    prop={'weight':'roman','size':'xx-large'})\n",
    "\n",
    "# Rectangle around the legend\n",
    "frame = legend.get_frame()\n",
    "frame.set_facecolor('.95')\n",
    "    \n",
    "#Plot 4 \"Services, etc., value added (constant 2005 US$)\"\n",
    "ax3 = plt.subplot(gs[3,:])\n",
    "\n",
    "### plot 3\n",
    "#ax3.set_ylim(min(0,df4['Value'].min()), 1.2*df4['Value'].max()) # keeping same as above\n",
    "ax3.set_ylim(min(0,df1['Value'].min()), 1.2*df1['Value'].max())\n",
    "ax3.set_title('Indicator Name : ' + df4['IndicatorName'].values[0],fontweight=\"bold\")\n",
    "\n",
    "for i in CountryFilter:\n",
    "    CCode = i\n",
    "    X=df4[df4['CountryCode'].str.contains(CCode)]['Year']\n",
    "    Y=df4[df4['CountryCode'].str.contains(CCode)]['Value']\n",
    "    ax3.plot(X, Y, '-',label=CCode)\n",
    "    \n",
    "# Add the legend\n",
    "legend = plt.legend(loc = 'upper left', \n",
    "                    shadow=True,\n",
    "                    prop={'weight':'roman','size':'xx-large'})\n",
    "\n",
    "# Rectangle around the legend\n",
    "frame = legend.get_frame()\n",
    "frame.set_facecolor('.95')\n",
    "plt.show()\n",
    "\n",
    "\n",
    "#plt.tight_layout()\n",
    "#plt.savefig('GDP.png')\n",
    "fig.savefig(\"GDPTrend.png\")"
   ]
  },
  {
   "cell_type": "markdown",
   "metadata": {},
   "source": [
    "# scatter plot and correlation - GDP against MFG, Agri and Services"
   ]
  },
  {
   "cell_type": "code",
   "execution_count": 50,
   "metadata": {},
   "outputs": [],
   "source": [
    "\n",
    "dataGDP = dataset[dataset['IndicatorName'].str.contains('GDP at market prices \\(constant')]\n",
    "dataMFG = dataset[dataset['IndicatorName'].str.contains('Manufacturing, value added \\(constant 2005')]\n",
    "\n",
    "dataAGRI = dataset[dataset['IndicatorName'].str.contains('Agriculture, value added \\(constant 2005')]\n",
    "dataSERV = dataset[dataset['IndicatorName'].str.contains('Services, etc., value added \\(constant 2005')]"
   ]
  },
  {
   "cell_type": "code",
   "execution_count": 51,
   "metadata": {},
   "outputs": [
    {
     "data": {
      "text/plain": [
       "((9954, 6), (6509, 6), (7233, 6), (6918, 6))"
      ]
     },
     "execution_count": 51,
     "metadata": {},
     "output_type": "execute_result"
    }
   ],
   "source": [
    "dataGDP.shape, dataMFG.shape, dataAGRI.shape,dataSERV.shape"
   ]
  },
  {
   "cell_type": "code",
   "execution_count": 52,
   "metadata": {},
   "outputs": [
    {
     "name": "stdout",
     "output_type": "stream",
     "text": [
      "261    GDP at market prices (constant 2005 US$)\n",
      "Name: IndicatorName, dtype: object\n",
      "2017    Manufacturing, value added (constant 2005 US$)\n",
      "Name: IndicatorName, dtype: object\n",
      "232    Agriculture, value added (constant 2005 US$)\n",
      "Name: IndicatorName, dtype: object\n",
      "466    Services, etc., value added (constant 2005 US$)\n",
      "Name: IndicatorName, dtype: object\n"
     ]
    }
   ],
   "source": [
    "print(dataGDP['IndicatorName'].head(1))\n",
    "print(dataMFG['IndicatorName'].head(1))\n",
    "print(dataAGRI['IndicatorName'].head(1))\n",
    "print(dataSERV['IndicatorName'].head(1))"
   ]
  },
  {
   "cell_type": "markdown",
   "metadata": {},
   "source": [
    "# Comparing the GDP Vs MFG for China and India"
   ]
  },
  {
   "cell_type": "code",
   "execution_count": 53,
   "metadata": {},
   "outputs": [
    {
     "data": {
      "text/plain": [
       "('CHN', 'IND')"
      ]
     },
     "execution_count": 53,
     "metadata": {},
     "output_type": "execute_result"
    }
   ],
   "source": [
    "# selected Countries: China and India\n",
    "Country1 = CountryFilter[3]\n",
    "Country2 = CountryFilter[2]\n",
    "Country1,Country2"
   ]
  },
  {
   "cell_type": "code",
   "execution_count": 54,
   "metadata": {},
   "outputs": [],
   "source": [
    "\n",
    "dataGDPCR1 = dataGDP[dataGDP['CountryCode'].str.contains(Country1)]\n",
    "dataGDPCR2 = dataGDP[dataGDP['CountryCode'].str.contains(Country2)]\n",
    "\n",
    "dataMFGCR1 = dataMFG[dataMFG['CountryCode'].str.contains(Country1)]\n",
    "dataMFGCR2 = dataMFG[dataMFG['CountryCode'].str.contains(Country2)]\n",
    "\n",
    "dataAGRICR1 = dataAGRI[dataAGRI['CountryCode'].str.contains(Country1)]\n",
    "dataAGRICR2 = dataAGRI[dataAGRI['CountryCode'].str.contains(Country2)]\n",
    "\n",
    "dataSERVCR1 = dataSERV[dataSERV['CountryCode'].str.contains(Country1)]\n",
    "dataSERVCR2 = dataSERV[dataSERV['CountryCode'].str.contains(Country2)]"
   ]
  },
  {
   "cell_type": "code",
   "execution_count": 55,
   "metadata": {},
   "outputs": [
    {
     "data": {
      "text/html": [
       "<div>\n",
       "<style scoped>\n",
       "    .dataframe tbody tr th:only-of-type {\n",
       "        vertical-align: middle;\n",
       "    }\n",
       "\n",
       "    .dataframe tbody tr th {\n",
       "        vertical-align: top;\n",
       "    }\n",
       "\n",
       "    .dataframe thead th {\n",
       "        text-align: right;\n",
       "    }\n",
       "</style>\n",
       "<table border=\"1\" class=\"dataframe\">\n",
       "  <thead>\n",
       "    <tr style=\"text-align: right;\">\n",
       "      <th></th>\n",
       "      <th>CountryName</th>\n",
       "      <th>CountryCode</th>\n",
       "      <th>IndicatorName</th>\n",
       "      <th>IndicatorCode</th>\n",
       "      <th>Year</th>\n",
       "      <th>Value</th>\n",
       "    </tr>\n",
       "  </thead>\n",
       "  <tbody>\n",
       "    <tr>\n",
       "      <th>11686</th>\n",
       "      <td>India</td>\n",
       "      <td>IND</td>\n",
       "      <td>Manufacturing, value added (constant 2005 US$)</td>\n",
       "      <td>NV.IND.MANF.KD</td>\n",
       "      <td>1960</td>\n",
       "      <td>1.065698e+10</td>\n",
       "    </tr>\n",
       "    <tr>\n",
       "      <th>36639</th>\n",
       "      <td>India</td>\n",
       "      <td>IND</td>\n",
       "      <td>Manufacturing, value added (constant 2005 US$)</td>\n",
       "      <td>NV.IND.MANF.KD</td>\n",
       "      <td>1961</td>\n",
       "      <td>1.156703e+10</td>\n",
       "    </tr>\n",
       "    <tr>\n",
       "      <th>64183</th>\n",
       "      <td>India</td>\n",
       "      <td>IND</td>\n",
       "      <td>Manufacturing, value added (constant 2005 US$)</td>\n",
       "      <td>NV.IND.MANF.KD</td>\n",
       "      <td>1962</td>\n",
       "      <td>1.240904e+10</td>\n",
       "    </tr>\n",
       "    <tr>\n",
       "      <th>92629</th>\n",
       "      <td>India</td>\n",
       "      <td>IND</td>\n",
       "      <td>Manufacturing, value added (constant 2005 US$)</td>\n",
       "      <td>NV.IND.MANF.KD</td>\n",
       "      <td>1963</td>\n",
       "      <td>1.358275e+10</td>\n",
       "    </tr>\n",
       "    <tr>\n",
       "      <th>121426</th>\n",
       "      <td>India</td>\n",
       "      <td>IND</td>\n",
       "      <td>Manufacturing, value added (constant 2005 US$)</td>\n",
       "      <td>NV.IND.MANF.KD</td>\n",
       "      <td>1964</td>\n",
       "      <td>1.452197e+10</td>\n",
       "    </tr>\n",
       "  </tbody>\n",
       "</table>\n",
       "</div>"
      ],
      "text/plain": [
       "       CountryName CountryCode  \\\n",
       "11686        India         IND   \n",
       "36639        India         IND   \n",
       "64183        India         IND   \n",
       "92629        India         IND   \n",
       "121426       India         IND   \n",
       "\n",
       "                                         IndicatorName   IndicatorCode  Year  \\\n",
       "11686   Manufacturing, value added (constant 2005 US$)  NV.IND.MANF.KD  1960   \n",
       "36639   Manufacturing, value added (constant 2005 US$)  NV.IND.MANF.KD  1961   \n",
       "64183   Manufacturing, value added (constant 2005 US$)  NV.IND.MANF.KD  1962   \n",
       "92629   Manufacturing, value added (constant 2005 US$)  NV.IND.MANF.KD  1963   \n",
       "121426  Manufacturing, value added (constant 2005 US$)  NV.IND.MANF.KD  1964   \n",
       "\n",
       "               Value  \n",
       "11686   1.065698e+10  \n",
       "36639   1.156703e+10  \n",
       "64183   1.240904e+10  \n",
       "92629   1.358275e+10  \n",
       "121426  1.452197e+10  "
      ]
     },
     "execution_count": 55,
     "metadata": {},
     "output_type": "execute_result"
    }
   ],
   "source": [
    "dataMFGCR2.head()"
   ]
  },
  {
   "cell_type": "code",
   "execution_count": 56,
   "metadata": {},
   "outputs": [
    {
     "name": "stdout",
     "output_type": "stream",
     "text": [
      "===> GDP Vs MFG\n",
      "Country I\n",
      "(55, 6)\n",
      "(37, 6)\n",
      "Country II\n",
      "(55, 6)\n",
      "(55, 6)\n",
      "===> GDP Vs AGRI\n",
      "(55, 6)\n",
      "(55, 6)\n",
      "Country I\n",
      "(55, 6)\n",
      "(55, 6)\n",
      "Country II\n",
      "===> GDP Vs SERV\n",
      "Country I\n",
      "(55, 6)\n",
      "(55, 6)\n",
      "Country II\n",
      "(55, 6)\n",
      "(55, 6)\n"
     ]
    }
   ],
   "source": [
    "print('===> GDP Vs MFG')\n",
    "print('Country I')\n",
    "print(dataGDPCR1.shape)\n",
    "print(dataMFGCR1.shape)\n",
    "print('Country II')\n",
    "print(dataGDPCR2.shape)\n",
    "print(dataMFGCR2.shape)\n",
    "\n",
    "print('===> GDP Vs AGRI')\n",
    "print(dataGDPCR1.shape)\n",
    "print(dataAGRICR1.shape)\n",
    "print('Country I')\n",
    "print(dataGDPCR2.shape)\n",
    "print(dataAGRICR2.shape)\n",
    "print('Country II')\n",
    "\n",
    "print('===> GDP Vs SERV')\n",
    "print('Country I')\n",
    "print(dataGDPCR1.shape)\n",
    "print(dataSERVCR1.shape)\n",
    "print('Country II')\n",
    "print(dataGDPCR2.shape)\n",
    "print(dataSERVCR2.shape)"
   ]
  },
  {
   "cell_type": "code",
   "execution_count": 57,
   "metadata": {},
   "outputs": [
    {
     "name": "stdout",
     "output_type": "stream",
     "text": [
      "********************************   CHN   *******************************\n",
      "GDP  MFG  AGRI  SERV\n",
      "1960 1978 1960 1960\n",
      "2014 2014 2014 2014\n"
     ]
    }
   ],
   "source": [
    "print('********************************   '+ Country1 +'   *******************************')\n",
    "print('GDP'+'  '+'MFG'+'  '+'AGRI'+'  '+'SERV')\n",
    "print(dataGDPCR1['Year'].min(),dataMFGCR1['Year'].min(),dataAGRICR1['Year'].min(),dataSERVCR1['Year'].min())\n",
    "print(dataGDPCR1['Year'].max(),dataMFGCR1['Year'].max(),dataAGRICR1['Year'].max(),dataSERVCR1['Year'].max())"
   ]
  },
  {
   "cell_type": "code",
   "execution_count": 58,
   "metadata": {},
   "outputs": [
    {
     "name": "stdout",
     "output_type": "stream",
     "text": [
      "********************************   IND   *******************************\n",
      "GDP  MFG  AGRI  SERV\n",
      "1960 1960 1960 1960\n",
      "2014 2014 2014 2014\n"
     ]
    }
   ],
   "source": [
    "print('********************************   '+ Country2 +'   *******************************')\n",
    "print('GDP'+'  '+'MFG'+'  '+'AGRI'+'  '+'SERV')\n",
    "print(dataGDPCR2['Year'].min(),dataMFGCR2['Year'].min(),dataAGRICR2['Year'].min(),dataSERVCR2['Year'].min())\n",
    "print(dataGDPCR2['Year'].max(),dataMFGCR2['Year'].max(),dataAGRICR2['Year'].max(),dataSERVCR2['Year'].max())"
   ]
  },
  {
   "cell_type": "code",
   "execution_count": 59,
   "metadata": {},
   "outputs": [],
   "source": [
    "dataGDPCR1_temp = dataGDPCR1[dataGDPCR1['Year'] >= 1978]\n",
    "dataGDPCR2_temp = dataGDPCR2[dataGDPCR2['Year'] >= 1978]\n",
    "\n",
    "dataMFGCR1_temp = dataMFGCR1[dataMFGCR1['Year'] >= 1978]\n",
    "dataMFGCR2_temp = dataMFGCR2[dataMFGCR2['Year'] >= 1978]\n",
    "\n",
    "dataAGRICR1_temp = dataAGRICR1[dataAGRICR1['Year'] >= 1978]\n",
    "dataAGRICR2_temp = dataAGRICR2[dataAGRICR2['Year'] >= 1978]\n",
    "\n",
    "dataSERVCR1_temp = dataSERVCR1[dataSERVCR1['Year'] >= 1978]\n",
    "dataSERVCR2_temp = dataSERVCR2[dataSERVCR2['Year'] >= 1978]"
   ]
  },
  {
   "cell_type": "code",
   "execution_count": 60,
   "metadata": {},
   "outputs": [
    {
     "name": "stdout",
     "output_type": "stream",
     "text": [
      "(37, 6) (37, 6) (37, 6) (37, 6) (37, 6) (37, 6) (37, 6) (37, 6)\n"
     ]
    }
   ],
   "source": [
    "print(dataGDPCR1_temp.shape, dataGDPCR2_temp.shape,dataMFGCR1_temp.shape,  dataMFGCR2_temp.shape,dataAGRICR1_temp.shape, dataAGRICR2_temp.shape, dataSERVCR1_temp.shape, dataSERVCR2_temp.shape)"
   ]
  },
  {
   "cell_type": "code",
   "execution_count": 61,
   "metadata": {},
   "outputs": [
    {
     "name": "stdout",
     "output_type": "stream",
     "text": [
      "1978 1978\n",
      "2014 2014\n"
     ]
    }
   ],
   "source": [
    "print(dataGDPCR1_temp['Year'].min(),dataGDPCR2_temp['Year'].min())\n",
    "print(dataMFGCR1_temp['Year'].max(),dataMFGCR2_temp['Year'].max())"
   ]
  },
  {
   "cell_type": "code",
   "execution_count": 62,
   "metadata": {},
   "outputs": [
    {
     "name": "stdout",
     "output_type": "stream",
     "text": [
      "********************************   CHN   *******************************\n",
      "GDP  MFG  AGRI  SERV\n",
      "1978 1978 1978 1978\n",
      "2014 2014 2014 2014\n"
     ]
    }
   ],
   "source": [
    "print('********************************   '+ Country1 +'   *******************************')\n",
    "print('GDP'+'  '+'MFG'+'  '+'AGRI'+'  '+'SERV')\n",
    "print(dataGDPCR1_temp['Year'].min(),dataMFGCR1_temp['Year'].min(),dataAGRICR1_temp['Year'].min(),dataSERVCR1_temp['Year'].min())\n",
    "print(dataGDPCR1_temp['Year'].max(),dataMFGCR1_temp['Year'].max(),dataAGRICR1_temp['Year'].max(),dataSERVCR1_temp['Year'].max())"
   ]
  },
  {
   "cell_type": "code",
   "execution_count": 63,
   "metadata": {},
   "outputs": [
    {
     "name": "stdout",
     "output_type": "stream",
     "text": [
      "********************************   IND   *******************************\n",
      "GDP  MFG  AGRI  SERV\n",
      "1978 1978 1978 1978\n",
      "2014 2014 2014 2014\n"
     ]
    }
   ],
   "source": [
    "print('********************************   '+ Country2 +'   *******************************')\n",
    "print('GDP'+'  '+'MFG'+'  '+'AGRI'+'  '+'SERV')\n",
    "print(dataGDPCR2_temp['Year'].min(),dataMFGCR2_temp['Year'].min(),dataAGRICR2_temp['Year'].min(),dataSERVCR2_temp['Year'].min())\n",
    "print(dataGDPCR2_temp['Year'].max(),dataMFGCR2_temp['Year'].max(),dataAGRICR2_temp['Year'].max(),dataSERVCR2_temp['Year'].max())"
   ]
  },
  {
   "cell_type": "code",
   "execution_count": 64,
   "metadata": {},
   "outputs": [
    {
     "data": {
      "text/plain": [
       "(37, 37)"
      ]
     },
     "execution_count": 64,
     "metadata": {},
     "output_type": "execute_result"
    }
   ],
   "source": [
    "len(dataGDPCR1_temp['Value'].values), len(dataMFGCR1_temp['Value'].values)"
   ]
  },
  {
   "cell_type": "code",
   "execution_count": 65,
   "metadata": {},
   "outputs": [
    {
     "data": {
      "text/html": [
       "<div>\n",
       "<style scoped>\n",
       "    .dataframe tbody tr th:only-of-type {\n",
       "        vertical-align: middle;\n",
       "    }\n",
       "\n",
       "    .dataframe tbody tr th {\n",
       "        vertical-align: top;\n",
       "    }\n",
       "\n",
       "    .dataframe thead th {\n",
       "        text-align: right;\n",
       "    }\n",
       "</style>\n",
       "<table border=\"1\" class=\"dataframe\">\n",
       "  <thead>\n",
       "    <tr style=\"text-align: right;\">\n",
       "      <th></th>\n",
       "      <th>CountryName</th>\n",
       "      <th>CountryCode</th>\n",
       "      <th>IndicatorName</th>\n",
       "      <th>IndicatorCode</th>\n",
       "      <th>Year</th>\n",
       "      <th>Value</th>\n",
       "    </tr>\n",
       "  </thead>\n",
       "  <tbody>\n",
       "    <tr>\n",
       "      <th>881413</th>\n",
       "      <td>China</td>\n",
       "      <td>CHN</td>\n",
       "      <td>Manufacturing, value added (constant 2005 US$)</td>\n",
       "      <td>NV.IND.MANF.KD</td>\n",
       "      <td>1978</td>\n",
       "      <td>5.014631e+10</td>\n",
       "    </tr>\n",
       "    <tr>\n",
       "      <th>957156</th>\n",
       "      <td>China</td>\n",
       "      <td>CHN</td>\n",
       "      <td>Manufacturing, value added (constant 2005 US$)</td>\n",
       "      <td>NV.IND.MANF.KD</td>\n",
       "      <td>1979</td>\n",
       "      <td>5.450904e+10</td>\n",
       "    </tr>\n",
       "    <tr>\n",
       "      <th>1034757</th>\n",
       "      <td>China</td>\n",
       "      <td>CHN</td>\n",
       "      <td>Manufacturing, value added (constant 2005 US$)</td>\n",
       "      <td>NV.IND.MANF.KD</td>\n",
       "      <td>1980</td>\n",
       "      <td>6.138411e+10</td>\n",
       "    </tr>\n",
       "    <tr>\n",
       "      <th>1117300</th>\n",
       "      <td>China</td>\n",
       "      <td>CHN</td>\n",
       "      <td>Manufacturing, value added (constant 2005 US$)</td>\n",
       "      <td>NV.IND.MANF.KD</td>\n",
       "      <td>1981</td>\n",
       "      <td>6.245184e+10</td>\n",
       "    </tr>\n",
       "    <tr>\n",
       "      <th>1201895</th>\n",
       "      <td>China</td>\n",
       "      <td>CHN</td>\n",
       "      <td>Manufacturing, value added (constant 2005 US$)</td>\n",
       "      <td>NV.IND.MANF.KD</td>\n",
       "      <td>1982</td>\n",
       "      <td>6.605659e+10</td>\n",
       "    </tr>\n",
       "  </tbody>\n",
       "</table>\n",
       "</div>"
      ],
      "text/plain": [
       "        CountryName CountryCode  \\\n",
       "881413        China         CHN   \n",
       "957156        China         CHN   \n",
       "1034757       China         CHN   \n",
       "1117300       China         CHN   \n",
       "1201895       China         CHN   \n",
       "\n",
       "                                          IndicatorName   IndicatorCode  Year  \\\n",
       "881413   Manufacturing, value added (constant 2005 US$)  NV.IND.MANF.KD  1978   \n",
       "957156   Manufacturing, value added (constant 2005 US$)  NV.IND.MANF.KD  1979   \n",
       "1034757  Manufacturing, value added (constant 2005 US$)  NV.IND.MANF.KD  1980   \n",
       "1117300  Manufacturing, value added (constant 2005 US$)  NV.IND.MANF.KD  1981   \n",
       "1201895  Manufacturing, value added (constant 2005 US$)  NV.IND.MANF.KD  1982   \n",
       "\n",
       "                Value  \n",
       "881413   5.014631e+10  \n",
       "957156   5.450904e+10  \n",
       "1034757  6.138411e+10  \n",
       "1117300  6.245184e+10  \n",
       "1201895  6.605659e+10  "
      ]
     },
     "execution_count": 65,
     "metadata": {},
     "output_type": "execute_result"
    }
   ],
   "source": [
    "#dataGDPCR1_temp.head()\n",
    "dataMFGCR1_temp.head()"
   ]
  },
  {
   "cell_type": "code",
   "execution_count": 66,
   "metadata": {
    "scrolled": true
   },
   "outputs": [
    {
     "data": {
      "image/png": "[encoded data removed]",
      "text/plain": [
       "<Figure size 1440x1440 with 6 Axes>"
      ]
     },
     "metadata": {},
     "output_type": "display_data"
    }
   ],
   "source": [
    "from matplotlib import gridspec\n",
    "\n",
    "fig = plt.figure(figsize=(20, 20)) \n",
    "plt.style.use('fivethirtyeight') # using the fivethirtyeight matplotlib theme\n",
    "#gs = gridspec.GridSpec(1, 2, width_ratios=[1, 1]) \n",
    "gs = gridspec.GridSpec(3, 2)#, width_ratios=[1, 1]) \n",
    "\n",
    "### Plot 1 \"Country 1 - GDP Vs MFG\"\n",
    "ax0 = plt.subplot(gs[0,0])\n",
    "ax0.set_title(Country1 + ': GDP Vs MFG', fontsize=10,fontweight=\"bold\")\n",
    "#ax0.set_title('Country I: GDP Vs MFG', fontsize=10,fontweight=\"bold\")\n",
    "\n",
    "ax0.set_xlabel(dataGDPCR1_temp['IndicatorName'].iloc[0])\n",
    "ax0.set_ylabel(dataMFGCR1_temp['IndicatorName'].iloc[0],fontsize=10)\n",
    "\n",
    "plt.scatter(dataGDPCR1_temp['Value'].values,dataMFGCR1_temp['Value'].values, color= 'red')\n",
    "#ax2.plot(dataGDPChina_temp['Value'].values,dataMFGChina_temp['Value'].values)\n",
    "\n",
    "### Plot 2 \"Country 2 - GDP Vs MFG\"\n",
    "ax1 = plt.subplot(gs[0,1])\n",
    "ax1.set_title(Country2 + ': GDP Vs MFG', fontsize=10,fontweight=\"bold\")\n",
    "ax1.set_xlabel(dataGDPCR2_temp['IndicatorName'].iloc[0])\n",
    "ax1.set_ylabel(dataMFGCR2_temp['IndicatorName'].iloc[0],fontsize=10)\n",
    "\n",
    "plt.scatter(dataGDPCR2_temp['Value'].values,dataMFGCR2_temp['Value'].values, color= 'blue')\n",
    "\n",
    "# ### Plot 3 \"Country 1 - GDP Vs AGRI\"\n",
    "ax3 = plt.subplot(gs[1,0])\n",
    "ax3.set_title(Country1 + ': GDP Vs AGRI', fontsize=10,fontweight=\"bold\")\n",
    "#ax3.set_title('Country I: GDP Vs AGRI', fontsize=10,fontweight=\"bold\")\n",
    "ax3.set_xlabel(dataGDPCR1_temp['IndicatorName'].iloc[0])\n",
    "ax3.set_ylabel(dataAGRICR1_temp['IndicatorName'].iloc[0],fontsize=10)\n",
    "plt.scatter(dataGDPCR1_temp['Value'].values,dataAGRICR1_temp['Value'].values, color= 'red')\n",
    "\n",
    "# ### Plot 4 \"Country 1 - GDP Vs AGRI\"\n",
    "ax4 = plt.subplot(gs[1,1])\n",
    "ax4.set_title(Country2 + ': GDP Vs AGRI', fontsize=10,fontweight=\"bold\")\n",
    "#ax4.set_title('Country I: GDP Vs AGRI', fontsize=10,fontweight=\"bold\")\n",
    "ax4.set_xlabel(dataGDPCR2_temp['IndicatorName'].iloc[0])\n",
    "ax4.set_ylabel(dataAGRICR2_temp['IndicatorName'].iloc[0],fontsize=10)\n",
    "plt.scatter(dataGDPCR2_temp['Value'].values,dataAGRICR2_temp['Value'].values, color= 'blue')\n",
    "\n",
    "# ### Plot 5 \"Country 1 - GDP Vs SERV\"\n",
    "ax5 = plt.subplot(gs[2,0])\n",
    "ax5.set_title(Country1 + ': GDP Vs SERV', fontsize=10,fontweight=\"bold\")\n",
    "#ax3.set_title('Country I: GDP Vs SERV', fontsize=10,fontweight=\"bold\")\n",
    "ax5.set_xlabel(dataGDPCR1_temp['IndicatorName'].iloc[0])\n",
    "ax5.set_ylabel(dataSERVCR1_temp['IndicatorName'].iloc[0],fontsize=10)\n",
    "plt.scatter(dataGDPCR1_temp['Value'].values,dataSERVCR1_temp['Value'].values, color= 'red')\n",
    "\n",
    "# ### Plot 6 \"Country 1 - GDP Vs SERV\"\n",
    "ax6 = plt.subplot(gs[2,1])\n",
    "ax6.set_title(Country2 + ': GDP Vs SERV', fontsize=10,fontweight=\"bold\")\n",
    "#ax6.set_title('Country I: GDP Vs SERV', fontsize=10,fontweight=\"bold\")\n",
    "ax6.set_xlabel(dataGDPCR2_temp['IndicatorName'].iloc[0])\n",
    "ax6.set_ylabel(dataSERVCR2_temp['IndicatorName'].iloc[0],fontsize=10)\n",
    "plt.scatter(dataGDPCR2_temp['Value'].values,dataSERVCR2_temp['Value'].values, color= 'blue')\n",
    "\n",
    "plt.show()\n",
    "\n",
    "fig.savefig(\"GDPCorrelation.png\")"
   ]
  },
  {
   "cell_type": "code",
   "execution_count": 67,
   "metadata": {},
   "outputs": [
    {
     "name": "stdout",
     "output_type": "stream",
     "text": [
      "===> Country 1 - GDP Vs MFG\n",
      "---------------------------\n",
      "[[1.         0.99978638]\n",
      " [0.99978638 1.        ]]\n"
     ]
    }
   ],
   "source": [
    "# Country 1 - GDP Vs MFG\n",
    "print('===> Country 1 - GDP Vs MFG')\n",
    "print('---------------------------')\n",
    "print(np.corrcoef(dataGDPCR1_temp['Value'].values,dataMFGCR1_temp['Value'].values)) "
   ]
  },
  {
   "cell_type": "code",
   "execution_count": 68,
   "metadata": {},
   "outputs": [
    {
     "name": "stdout",
     "output_type": "stream",
     "text": [
      "===> Country 2 - GDP Vs MFG\n",
      "---------------------------\n",
      "[[1.         0.99931281]\n",
      " [0.99931281 1.        ]]\n"
     ]
    }
   ],
   "source": [
    "# Country 2: GDp Vs MFG\n",
    "\n",
    "print('===> Country 2 - GDP Vs MFG')\n",
    "print('---------------------------')\n",
    "\n",
    "print(np.corrcoef(dataGDPCR2_temp['Value'].values,dataMFGCR2_temp['Value'].values))"
   ]
  },
  {
   "cell_type": "code",
   "execution_count": 69,
   "metadata": {},
   "outputs": [
    {
     "name": "stdout",
     "output_type": "stream",
     "text": [
      "===> Country 1 - GDP Vs AGRI\n",
      "---------------------------\n",
      "[[1.         0.96831993]\n",
      " [0.96831993 1.        ]]\n"
     ]
    }
   ],
   "source": [
    "# Country 1 - GDP Vs AGRI\n",
    "\n",
    "print('===> Country 1 - GDP Vs AGRI')\n",
    "print('---------------------------')\n",
    "\n",
    "print(np.corrcoef(dataGDPCR1_temp['Value'].values,dataAGRICR1_temp['Value'].values))"
   ]
  },
  {
   "cell_type": "code",
   "execution_count": 70,
   "metadata": {},
   "outputs": [
    {
     "name": "stdout",
     "output_type": "stream",
     "text": [
      "===> Country 2 - GDP Vs AGRI\n",
      "---------------------------\n",
      "[[1.         0.98216157]\n",
      " [0.98216157 1.        ]]\n"
     ]
    }
   ],
   "source": [
    "# Country 2 - GDP Vs AGRI\n",
    "\n",
    "print('===> Country 2 - GDP Vs AGRI')\n",
    "print('---------------------------')\n",
    "\n",
    "print(np.corrcoef(dataGDPCR2_temp['Value'].values,dataAGRICR2_temp['Value'].values))"
   ]
  },
  {
   "cell_type": "code",
   "execution_count": 71,
   "metadata": {},
   "outputs": [
    {
     "name": "stdout",
     "output_type": "stream",
     "text": [
      "===> Country 1 - GDP Vs SERV\n",
      "---------------------------\n",
      "[[1.         0.99978425]\n",
      " [0.99978425 1.        ]]\n"
     ]
    }
   ],
   "source": [
    "# Country 1 - GDP Vs SERV\n",
    "\n",
    "print('===> Country 1 - GDP Vs SERV')\n",
    "print('---------------------------')\n",
    "\n",
    "print(np.corrcoef(dataGDPCR1_temp['Value'].values,dataSERVCR1_temp['Value'].values))"
   ]
  },
  {
   "cell_type": "code",
   "execution_count": 72,
   "metadata": {},
   "outputs": [
    {
     "name": "stdout",
     "output_type": "stream",
     "text": [
      "===> Country 2 - GDP Vs SERV\n",
      "---------------------------\n",
      "[[1.        0.9978766]\n",
      " [0.9978766 1.       ]]\n"
     ]
    }
   ],
   "source": [
    "# Country 2 - GDP Vs SERV\n",
    "\n",
    "print('===> Country 2 - GDP Vs SERV')\n",
    "print('---------------------------')\n",
    "\n",
    "print(np.corrcoef(dataGDPCR2_temp['Value'].values,dataSERVCR2_temp['Value'].values))"
   ]
  },
  {
   "cell_type": "markdown",
   "metadata": {},
   "source": [
    "# Comparing the contribution of mfg,service and agri in GDP of China vs India"
   ]
  },
  {
   "cell_type": "code",
   "execution_count": 73,
   "metadata": {},
   "outputs": [],
   "source": [
    "SummaryGDP = dataset[mask2 & mask3 & mask1]\n",
    "\n"
   ]
  },
  {
   "cell_type": "code",
   "execution_count": 74,
   "metadata": {},
   "outputs": [],
   "source": [
    "# YR, BRICS, Rest of Indicator (MFG,SERV,AGRI)\n",
    "SummaryROI = dataset[mask2 & mask3 & (mask4 | mask5 |mask6)]"
   ]
  },
  {
   "cell_type": "code",
   "execution_count": 75,
   "metadata": {},
   "outputs": [
    {
     "data": {
      "text/plain": [
       "((24, 6), (65, 6))"
      ]
     },
     "execution_count": 75,
     "metadata": {},
     "output_type": "execute_result"
    }
   ],
   "source": [
    "SummaryGDP.shape, SummaryROI.shape"
   ]
  },
  {
   "cell_type": "code",
   "execution_count": 76,
   "metadata": {},
   "outputs": [
    {
     "data": {
      "text/plain": [
       "(array(['Agriculture, value added (constant 2005 US$)',\n",
       "        'Manufacturing, value added (constant 2005 US$)',\n",
       "        'Services, etc., value added (constant 2005 US$)'], dtype=object),\n",
       " array([1980, 1990, 2000, 2010, 2014], dtype=int64))"
      ]
     },
     "execution_count": 76,
     "metadata": {},
     "output_type": "execute_result"
    }
   ],
   "source": [
    "SummaryROI['IndicatorName'].unique(), SummaryROI['Year'].unique()"
   ]
  },
  {
   "cell_type": "code",
   "execution_count": 77,
   "metadata": {},
   "outputs": [
    {
     "data": {
      "text/plain": [
       "(array(['GDP at market prices (constant 2005 US$)'], dtype=object),\n",
       " array([1980, 1990, 2000, 2010, 2014], dtype=int64))"
      ]
     },
     "execution_count": 77,
     "metadata": {},
     "output_type": "execute_result"
    }
   ],
   "source": [
    "SummaryGDP['IndicatorName'].unique(), SummaryGDP['Year'].unique()"
   ]
  },
  {
   "cell_type": "code",
   "execution_count": 78,
   "metadata": {},
   "outputs": [
    {
     "data": {
      "text/plain": [
       "('CHN', 'IND')"
      ]
     },
     "execution_count": 78,
     "metadata": {},
     "output_type": "execute_result"
    }
   ],
   "source": [
    "Country1,Country2"
   ]
  },
  {
   "cell_type": "code",
   "execution_count": 79,
   "metadata": {},
   "outputs": [],
   "source": [
    "SummaryGDPCR1 = SummaryGDP[SummaryGDP['CountryCode']== Country1]\n",
    "SummaryGDPCR2 = SummaryGDP[SummaryGDP['CountryCode']== Country2]"
   ]
  },
  {
   "cell_type": "code",
   "execution_count": 80,
   "metadata": {},
   "outputs": [
    {
     "data": {
      "text/html": [
       "<div>\n",
       "<style scoped>\n",
       "    .dataframe tbody tr th:only-of-type {\n",
       "        vertical-align: middle;\n",
       "    }\n",
       "\n",
       "    .dataframe tbody tr th {\n",
       "        vertical-align: top;\n",
       "    }\n",
       "\n",
       "    .dataframe thead th {\n",
       "        text-align: right;\n",
       "    }\n",
       "</style>\n",
       "<table border=\"1\" class=\"dataframe\">\n",
       "  <thead>\n",
       "    <tr style=\"text-align: right;\">\n",
       "      <th></th>\n",
       "      <th>CountryName</th>\n",
       "      <th>CountryCode</th>\n",
       "      <th>IndicatorName</th>\n",
       "      <th>IndicatorCode</th>\n",
       "      <th>Year</th>\n",
       "      <th>Value</th>\n",
       "    </tr>\n",
       "  </thead>\n",
       "  <tbody>\n",
       "    <tr>\n",
       "      <th>1034560</th>\n",
       "      <td>China</td>\n",
       "      <td>CHN</td>\n",
       "      <td>Agriculture, value added (constant 2005 US$)</td>\n",
       "      <td>NV.AGR.TOTL.KD</td>\n",
       "      <td>1980</td>\n",
       "      <td>8.400877e+10</td>\n",
       "    </tr>\n",
       "    <tr>\n",
       "      <th>1034757</th>\n",
       "      <td>China</td>\n",
       "      <td>CHN</td>\n",
       "      <td>Manufacturing, value added (constant 2005 US$)</td>\n",
       "      <td>NV.IND.MANF.KD</td>\n",
       "      <td>1980</td>\n",
       "      <td>6.138411e+10</td>\n",
       "    </tr>\n",
       "    <tr>\n",
       "      <th>1034876</th>\n",
       "      <td>China</td>\n",
       "      <td>CHN</td>\n",
       "      <td>Services, etc., value added (constant 2005 US$)</td>\n",
       "      <td>NV.SRV.TETC.KD</td>\n",
       "      <td>1980</td>\n",
       "      <td>6.754895e+10</td>\n",
       "    </tr>\n",
       "    <tr>\n",
       "      <th>1914641</th>\n",
       "      <td>China</td>\n",
       "      <td>CHN</td>\n",
       "      <td>Agriculture, value added (constant 2005 US$)</td>\n",
       "      <td>NV.AGR.TOTL.KD</td>\n",
       "      <td>1990</td>\n",
       "      <td>1.531594e+11</td>\n",
       "    </tr>\n",
       "    <tr>\n",
       "      <th>1914989</th>\n",
       "      <td>China</td>\n",
       "      <td>CHN</td>\n",
       "      <td>Manufacturing, value added (constant 2005 US$)</td>\n",
       "      <td>NV.IND.MANF.KD</td>\n",
       "      <td>1990</td>\n",
       "      <td>1.528899e+11</td>\n",
       "    </tr>\n",
       "  </tbody>\n",
       "</table>\n",
       "</div>"
      ],
      "text/plain": [
       "        CountryName CountryCode  \\\n",
       "1034560       China         CHN   \n",
       "1034757       China         CHN   \n",
       "1034876       China         CHN   \n",
       "1914641       China         CHN   \n",
       "1914989       China         CHN   \n",
       "\n",
       "                                           IndicatorName   IndicatorCode  \\\n",
       "1034560     Agriculture, value added (constant 2005 US$)  NV.AGR.TOTL.KD   \n",
       "1034757   Manufacturing, value added (constant 2005 US$)  NV.IND.MANF.KD   \n",
       "1034876  Services, etc., value added (constant 2005 US$)  NV.SRV.TETC.KD   \n",
       "1914641     Agriculture, value added (constant 2005 US$)  NV.AGR.TOTL.KD   \n",
       "1914989   Manufacturing, value added (constant 2005 US$)  NV.IND.MANF.KD   \n",
       "\n",
       "         Year         Value  \n",
       "1034560  1980  8.400877e+10  \n",
       "1034757  1980  6.138411e+10  \n",
       "1034876  1980  6.754895e+10  \n",
       "1914641  1990  1.531594e+11  \n",
       "1914989  1990  1.528899e+11  "
      ]
     },
     "execution_count": 80,
     "metadata": {},
     "output_type": "execute_result"
    }
   ],
   "source": [
    "SummaryROICR1 = SummaryROI[SummaryROI['CountryCode']== Country1]\n",
    "SummaryROICR2 = SummaryROI[SummaryROI['CountryCode']== Country2]\n",
    "SummaryROICR1.head()"
   ]
  },
  {
   "cell_type": "code",
   "execution_count": 81,
   "metadata": {},
   "outputs": [],
   "source": [
    "SummaryGDPCR1 = SummaryGDP[SummaryGDP['CountryCode']== Country1]\n",
    "SummaryGDPCR2 = SummaryGDP[SummaryGDP['CountryCode']== Country2]"
   ]
  },
  {
   "cell_type": "code",
   "execution_count": 82,
   "metadata": {},
   "outputs": [
    {
     "data": {
      "text/html": [
       "<div>\n",
       "<style scoped>\n",
       "    .dataframe tbody tr th:only-of-type {\n",
       "        vertical-align: middle;\n",
       "    }\n",
       "\n",
       "    .dataframe tbody tr th {\n",
       "        vertical-align: top;\n",
       "    }\n",
       "\n",
       "    .dataframe thead th {\n",
       "        text-align: right;\n",
       "    }\n",
       "</style>\n",
       "<table border=\"1\" class=\"dataframe\">\n",
       "  <thead>\n",
       "    <tr style=\"text-align: right;\">\n",
       "      <th></th>\n",
       "      <th>CountryName</th>\n",
       "      <th>CountryCode</th>\n",
       "      <th>IndicatorName</th>\n",
       "      <th>IndicatorCode</th>\n",
       "      <th>Year</th>\n",
       "      <th>Value</th>\n",
       "    </tr>\n",
       "  </thead>\n",
       "  <tbody>\n",
       "    <tr>\n",
       "      <th>1034560</th>\n",
       "      <td>China</td>\n",
       "      <td>CHN</td>\n",
       "      <td>Agriculture, value added (constant 2005 US$)</td>\n",
       "      <td>NV.AGR.TOTL.KD</td>\n",
       "      <td>1980</td>\n",
       "      <td>8.400877e+10</td>\n",
       "    </tr>\n",
       "    <tr>\n",
       "      <th>1034757</th>\n",
       "      <td>China</td>\n",
       "      <td>CHN</td>\n",
       "      <td>Manufacturing, value added (constant 2005 US$)</td>\n",
       "      <td>NV.IND.MANF.KD</td>\n",
       "      <td>1980</td>\n",
       "      <td>6.138411e+10</td>\n",
       "    </tr>\n",
       "    <tr>\n",
       "      <th>1034876</th>\n",
       "      <td>China</td>\n",
       "      <td>CHN</td>\n",
       "      <td>Services, etc., value added (constant 2005 US$)</td>\n",
       "      <td>NV.SRV.TETC.KD</td>\n",
       "      <td>1980</td>\n",
       "      <td>6.754895e+10</td>\n",
       "    </tr>\n",
       "    <tr>\n",
       "      <th>1914641</th>\n",
       "      <td>China</td>\n",
       "      <td>CHN</td>\n",
       "      <td>Agriculture, value added (constant 2005 US$)</td>\n",
       "      <td>NV.AGR.TOTL.KD</td>\n",
       "      <td>1990</td>\n",
       "      <td>1.531594e+11</td>\n",
       "    </tr>\n",
       "    <tr>\n",
       "      <th>1914989</th>\n",
       "      <td>China</td>\n",
       "      <td>CHN</td>\n",
       "      <td>Manufacturing, value added (constant 2005 US$)</td>\n",
       "      <td>NV.IND.MANF.KD</td>\n",
       "      <td>1990</td>\n",
       "      <td>1.528899e+11</td>\n",
       "    </tr>\n",
       "  </tbody>\n",
       "</table>\n",
       "</div>"
      ],
      "text/plain": [
       "        CountryName CountryCode  \\\n",
       "1034560       China         CHN   \n",
       "1034757       China         CHN   \n",
       "1034876       China         CHN   \n",
       "1914641       China         CHN   \n",
       "1914989       China         CHN   \n",
       "\n",
       "                                           IndicatorName   IndicatorCode  \\\n",
       "1034560     Agriculture, value added (constant 2005 US$)  NV.AGR.TOTL.KD   \n",
       "1034757   Manufacturing, value added (constant 2005 US$)  NV.IND.MANF.KD   \n",
       "1034876  Services, etc., value added (constant 2005 US$)  NV.SRV.TETC.KD   \n",
       "1914641     Agriculture, value added (constant 2005 US$)  NV.AGR.TOTL.KD   \n",
       "1914989   Manufacturing, value added (constant 2005 US$)  NV.IND.MANF.KD   \n",
       "\n",
       "         Year         Value  \n",
       "1034560  1980  8.400877e+10  \n",
       "1034757  1980  6.138411e+10  \n",
       "1034876  1980  6.754895e+10  \n",
       "1914641  1990  1.531594e+11  \n",
       "1914989  1990  1.528899e+11  "
      ]
     },
     "execution_count": 82,
     "metadata": {},
     "output_type": "execute_result"
    }
   ],
   "source": [
    "SummaryROICR1 = SummaryROI[SummaryROI['CountryCode']== Country1]\n",
    "SummaryROICR2 = SummaryROI[SummaryROI['CountryCode']== Country2]\n",
    "SummaryROICR1.head()"
   ]
  },
  {
   "cell_type": "code",
   "execution_count": 83,
   "metadata": {},
   "outputs": [
    {
     "name": "stderr",
     "output_type": "stream",
     "text": [
      "C:\\Users\\ajamishr\\AppData\\Local\\Continuum\\anaconda3\\lib\\site-packages\\ipykernel_launcher.py:1: UserWarning: Boolean Series key will be reindexed to match DataFrame index.\n",
      "  \"\"\"Entry point for launching an IPython kernel.\n",
      "C:\\Users\\ajamishr\\AppData\\Local\\Continuum\\anaconda3\\lib\\site-packages\\ipykernel_launcher.py:2: UserWarning: Boolean Series key will be reindexed to match DataFrame index.\n",
      "  \n",
      "C:\\Users\\ajamishr\\AppData\\Local\\Continuum\\anaconda3\\lib\\site-packages\\ipykernel_launcher.py:4: UserWarning: Boolean Series key will be reindexed to match DataFrame index.\n",
      "  after removing the cwd from sys.path.\n",
      "C:\\Users\\ajamishr\\AppData\\Local\\Continuum\\anaconda3\\lib\\site-packages\\ipykernel_launcher.py:5: UserWarning: Boolean Series key will be reindexed to match DataFrame index.\n",
      "  \"\"\"\n",
      "C:\\Users\\ajamishr\\AppData\\Local\\Continuum\\anaconda3\\lib\\site-packages\\ipykernel_launcher.py:7: UserWarning: Boolean Series key will be reindexed to match DataFrame index.\n",
      "  import sys\n",
      "C:\\Users\\ajamishr\\AppData\\Local\\Continuum\\anaconda3\\lib\\site-packages\\ipykernel_launcher.py:8: UserWarning: Boolean Series key will be reindexed to match DataFrame index.\n",
      "  \n"
     ]
    }
   ],
   "source": [
    "SummaryROICR1MFG = SummaryROICR1[mask4]\n",
    "SummaryROICR2MFG = SummaryROICR2[mask4]\n",
    "\n",
    "SummaryROICR1AGRI = SummaryROICR1[mask5]\n",
    "SummaryROICR2AGRI = SummaryROICR2[mask5]\n",
    "\n",
    "SummaryROICR1SERV = SummaryROICR1[mask6]\n",
    "SummaryROICR2SERV = SummaryROICR2[mask6]"
   ]
  },
  {
   "cell_type": "code",
   "execution_count": 84,
   "metadata": {},
   "outputs": [
    {
     "data": {
      "text/html": [
       "<div>\n",
       "<style scoped>\n",
       "    .dataframe tbody tr th:only-of-type {\n",
       "        vertical-align: middle;\n",
       "    }\n",
       "\n",
       "    .dataframe tbody tr th {\n",
       "        vertical-align: top;\n",
       "    }\n",
       "\n",
       "    .dataframe thead th {\n",
       "        text-align: right;\n",
       "    }\n",
       "</style>\n",
       "<table border=\"1\" class=\"dataframe\">\n",
       "  <thead>\n",
       "    <tr style=\"text-align: right;\">\n",
       "      <th></th>\n",
       "      <th>CountryName</th>\n",
       "      <th>CountryCode</th>\n",
       "      <th>IndicatorName</th>\n",
       "      <th>IndicatorCode</th>\n",
       "      <th>Year</th>\n",
       "      <th>Value</th>\n",
       "    </tr>\n",
       "  </thead>\n",
       "  <tbody>\n",
       "    <tr>\n",
       "      <th>1051875</th>\n",
       "      <td>India</td>\n",
       "      <td>IND</td>\n",
       "      <td>Services, etc., value added (constant 2005 US$)</td>\n",
       "      <td>NV.SRV.TETC.KD</td>\n",
       "      <td>1980</td>\n",
       "      <td>7.173092e+10</td>\n",
       "    </tr>\n",
       "    <tr>\n",
       "      <th>1938187</th>\n",
       "      <td>India</td>\n",
       "      <td>IND</td>\n",
       "      <td>Services, etc., value added (constant 2005 US$)</td>\n",
       "      <td>NV.SRV.TETC.KD</td>\n",
       "      <td>1990</td>\n",
       "      <td>1.342344e+11</td>\n",
       "    </tr>\n",
       "    <tr>\n",
       "      <th>3246268</th>\n",
       "      <td>India</td>\n",
       "      <td>IND</td>\n",
       "      <td>Services, etc., value added (constant 2005 US$)</td>\n",
       "      <td>NV.SRV.TETC.KD</td>\n",
       "      <td>2000</td>\n",
       "      <td>2.755728e+11</td>\n",
       "    </tr>\n",
       "    <tr>\n",
       "      <th>4930029</th>\n",
       "      <td>India</td>\n",
       "      <td>IND</td>\n",
       "      <td>Services, etc., value added (constant 2005 US$)</td>\n",
       "      <td>NV.SRV.TETC.KD</td>\n",
       "      <td>2010</td>\n",
       "      <td>6.510846e+11</td>\n",
       "    </tr>\n",
       "    <tr>\n",
       "      <th>5585734</th>\n",
       "      <td>India</td>\n",
       "      <td>IND</td>\n",
       "      <td>Services, etc., value added (constant 2005 US$)</td>\n",
       "      <td>NV.SRV.TETC.KD</td>\n",
       "      <td>2014</td>\n",
       "      <td>9.021431e+11</td>\n",
       "    </tr>\n",
       "  </tbody>\n",
       "</table>\n",
       "</div>"
      ],
      "text/plain": [
       "        CountryName CountryCode  \\\n",
       "1051875       India         IND   \n",
       "1938187       India         IND   \n",
       "3246268       India         IND   \n",
       "4930029       India         IND   \n",
       "5585734       India         IND   \n",
       "\n",
       "                                           IndicatorName   IndicatorCode  \\\n",
       "1051875  Services, etc., value added (constant 2005 US$)  NV.SRV.TETC.KD   \n",
       "1938187  Services, etc., value added (constant 2005 US$)  NV.SRV.TETC.KD   \n",
       "3246268  Services, etc., value added (constant 2005 US$)  NV.SRV.TETC.KD   \n",
       "4930029  Services, etc., value added (constant 2005 US$)  NV.SRV.TETC.KD   \n",
       "5585734  Services, etc., value added (constant 2005 US$)  NV.SRV.TETC.KD   \n",
       "\n",
       "         Year         Value  \n",
       "1051875  1980  7.173092e+10  \n",
       "1938187  1990  1.342344e+11  \n",
       "3246268  2000  2.755728e+11  \n",
       "4930029  2010  6.510846e+11  \n",
       "5585734  2014  9.021431e+11  "
      ]
     },
     "execution_count": 84,
     "metadata": {},
     "output_type": "execute_result"
    }
   ],
   "source": [
    "SummaryROICR2SERV.head()"
   ]
  },
  {
   "cell_type": "code",
   "execution_count": 85,
   "metadata": {},
   "outputs": [
    {
     "data": {
      "image/png": "[encoded data removed]",
      "text/plain": [
       "<Figure size 1440x720 with 4 Axes>"
      ]
     },
     "metadata": {},
     "output_type": "display_data"
    }
   ],
   "source": [
    "# 2 plots\n",
    "import pandas as pd\n",
    "import matplotlib.pyplot as plt\n",
    "from matplotlib import gridspec\n",
    "\n",
    "fig = plt.figure(figsize=(20, 10)) \n",
    "gs = gridspec.GridSpec(1, 2)#, width_ratios=[1, 1]) \n",
    "\n",
    "# Plot I - CHINA\n",
    "ax1 = plt.subplot(gs[0,0])\n",
    "######\n",
    "# Country I - CHINA\n",
    "#plt.rcParams['figure.figsize']=(10,8) # set the figure size\n",
    "#plt.style.use('fivethirtyeight') # using the fivethirtyeight matplotlib theme\n",
    "width = 0.1\n",
    "\n",
    "#fig, ax1 = plt.subplots()\n",
    "ax2 = ax1.twinx()  # set up the 2nd axis\n",
    "\n",
    "ax1.plot( SummaryGDPCR1['Year'],SummaryGDPCR1['Value'],color='lime') #plot the Revenue on axis #1\n",
    "\n",
    "\n",
    "ax2.grid(b=False) # turn off grid #2\n",
    "\n",
    "xYear = SummaryROICR1MFG['Year'].values\n",
    "yMFG  = SummaryROICR1MFG['Value'].values\n",
    "vAGRI = SummaryROICR1AGRI['Value'].values\n",
    "vSERV = SummaryROICR1SERV['Value'].values\n",
    "\n",
    "p1= ax2.bar(xYear ,yMFG, alpha=0.2, color='red',label='Manufacturing, value added')\n",
    "p2 = ax2.bar(xYear,vAGRI, alpha=0.2, color='blue',bottom = yMFG, label='Agriculture, value added')\n",
    "p3 = ax2.bar(xYear,vSERV, alpha=0.2, color='darkgreen', bottom = vAGRI + yMFG, label='Services, etc., value added')\n",
    "\n",
    "\n",
    "ax1.set_ylim(0, 6500000000000)\n",
    "ax2.set_ylim(0, 6500000000000)\n",
    "\n",
    "ax2.yaxis.set_visible(False)\n",
    "\n",
    "ax1.set_title(Country1 +': ' + 'GDP Vs MFG-AGRI-SERV')\n",
    "ax1.set_ylabel('GDP')\n",
    "\n",
    "\n",
    "# Add the legend\n",
    "legend = plt.legend(loc = 'upper left', \n",
    "                    shadow=True,\n",
    "                    prop={'weight':'roman','size':'medium'})\n",
    "\n",
    "# Rectangle around the legend\n",
    "frame = legend.get_frame()\n",
    "frame.set_facecolor('.95')\n",
    "#plt.show()\n",
    "\n",
    "\n",
    "#######\n",
    "# Plot 2 INDIA\n",
    "ax3 = plt.subplot(gs[0,1])\n",
    "width = 0.1\n",
    "\n",
    "#fig, ax1 = plt.subplots()\n",
    "ax4 = ax3.twinx()  # set up the 2nd axis\n",
    "\n",
    "ax3.plot( SummaryGDPCR2['Year'],SummaryGDPCR2['Value'],color='lime') #plot the Revenue on axis #1\n",
    "\n",
    "\n",
    "ax4.grid(b=False) # turn off grid #2\n",
    "\n",
    "xYear = SummaryROICR2MFG['Year'].values\n",
    "yMFG  = SummaryROICR2MFG['Value'].values\n",
    "vAGRI = SummaryROICR2AGRI['Value'].values\n",
    "vSERV = SummaryROICR2SERV['Value'].values\n",
    "\n",
    "p1= ax4.bar(xYear ,yMFG, alpha=0.2, color='red',label='Manufacturing, value added')\n",
    "p2 = ax4.bar(xYear,vAGRI, alpha=0.2, color='blue',bottom = yMFG, label='Agriculture, value added')\n",
    "p3 = ax4.bar(xYear,vSERV, alpha=0.2, color='darkgreen', bottom = vAGRI + yMFG, label='Services, etc., value added')\n",
    "\n",
    "\n",
    "ax3.set_ylim(0, 6500000000000)\n",
    "ax4.set_ylim(0, 6500000000000)\n",
    "\n",
    "ax4.yaxis.set_visible(False)\n",
    "\n",
    "ax3.set_title(Country2 +': ' + 'GDP Vs MFG-AGRI-SERV')\n",
    "ax3.set_ylabel('GDP')\n",
    "\n",
    "\n",
    "# Add the legend\n",
    "legend = plt.legend(loc = 'upper left', \n",
    "                    shadow=True,\n",
    "                    prop={'weight':'roman','size':'medium'})\n",
    "\n",
    "# Rectangle around the legend\n",
    "frame = legend.get_frame()\n",
    "frame.set_facecolor('.95')\n",
    "\n",
    "\n",
    "plt.show()\n",
    "fig.savefig(\"GDPCHNVsINS.png\")\n",
    "\n"
   ]
  },
  {
   "cell_type": "code",
   "execution_count": null,
   "metadata": {},
   "outputs": [],
   "source": []
  }
 ],
 "metadata": {
  "kernelspec": {
   "display_name": "Python 3",
   "language": "python",
   "name": "python3"
  },
  "language_info": {
   "codemirror_mode": {
    "name": "ipython",
    "version": 3
   },
   "file_extension": ".py",
   "mimetype": "text/x-python",
   "name": "python",
   "nbconvert_exporter": "python",
   "pygments_lexer": "ipython3",
   "version": "3.6.5"
  }
 },
 "nbformat": 4,
 "nbformat_minor": 2
}
